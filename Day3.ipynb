{
 "cells": [
  {
   "cell_type": "markdown",
   "metadata": {},
   "source": [
    "# Module, CSV und Plotten"
   ]
  },
  {
   "cell_type": "markdown",
   "metadata": {},
   "source": [
    "## Module\n",
    "Viele der Skripte, welche ihr bis jetzt geschrieben habt behandeln häufig auftretende Probleme,\n",
    "wie zum Beispiel die Suche nach einer Wurzel.\n",
    "Dies ist kein triviales Problem, welches verschiedene Lösungen zulässt.\n",
    "Die beste Lösung kann man entweder durch das Lesen von Fachzeitschriften und langes Knobeln selber finden \n",
    "oder man verwendet bereits vorgefertigten Code.\n",
    "\n",
    "Dieser Code wird für Python in sogenannten „Modulen“ verteilt. \n",
    "Dies sind thematische Sammlungen verschiedener Klassen und Funktionen, \n",
    "welche gesammelt zur Verfügung gestellt werden.\n",
    "\n",
    "Die Verwendung eines Moduls wird hier kurz anhand von numpy demonstriert.\n",
    "Der erste Schritt ist das Modul zu laden oder zu importieren.\n",
    "Anschließend kann der Inhalt genutzt werden.\n",
    "Die Syntax entspricht dabei dem Aufruf einer Methode."
   ]
  },
  {
   "cell_type": "code",
   "execution_count": null,
   "metadata": {},
   "outputs": [],
   "source": [
    "# Zuerst beginnen wir mit dem Import des Moduls \"numpy\"\n",
    "import numpy \n",
    "a = 5\n",
    "\n",
    "# Nun können wir die Wurzel-Funktion des Moduls \"sqrt\" rufen\n",
    "b = numpy.sqrt(a)\n",
    "print(b)"
   ]
  },
  {
   "cell_type": "markdown",
   "metadata": {},
   "source": [
    "Es ist auch möglich Module während des Imports mit „as“ umzubenennen."
   ]
  },
  {
   "cell_type": "code",
   "execution_count": null,
   "metadata": {},
   "outputs": [],
   "source": [
    "import numpy as np\n",
    "# Dies entspricht:\n",
    "# import numpy\n",
    "# np = numpy\n",
    "\n",
    "a = 5\n",
    "# Wir können numpy nun als np rufen\n",
    "print(np.sqrt(a))"
   ]
  },
  {
   "cell_type": "markdown",
   "metadata": {},
   "source": [
    "\n",
    "## Plotten mit matplotlib\n",
    "Im Anfängerpraktikum werdet ihr,\n",
    "wie vermutlich auch im Rest eures Studiums Messergebnisse graphisch darstellen müssen.\n",
    "Für kleine Datenmengen kann dies mit Papier und Bleistift bewerkstelligt werden.\n",
    "Für größere Datenmengen sollte man jedoch einen Computer verwenden.\n",
    "In Python ist dies mit matplotlib möglich.\n",
    "\n",
    "Hier ein kurzes Beispiel:"
   ]
  },
  {
   "cell_type": "code",
   "execution_count": null,
   "metadata": {},
   "outputs": [],
   "source": [
    "import matplotlib.pyplot as plt\n",
    "\n",
    "# Erzeugung der X Werte\n",
    "x = [0, 1, 2, 3, 4, 5, 6, 7, 8, 9, 10]\n",
    "# Erzeugung der Y-Werte\n",
    "y = [0, 1, 4, 9, 16, 25, 36, 49, 64, 81, 100]\n",
    "\n",
    "plt.plot(x, y)\n",
    "plt.show()"
   ]
  },
  {
   "cell_type": "markdown",
   "metadata": {},
   "source": [
    "Wie ihr sehen könnt übergeben wir „plot“ zwei iterierbare Objekte, in diesem Fall Listen als Argumente,\n",
    "interpretiert diese als Datenpunkte und legt anschließend eine Linie durch diese.\n",
    "„show“ dient dazu das Ergebnis am Ende darzustellen.\n",
    "Es ist möglich vor show noch weiter Graphen zeichnen zu lassen.\n",
    "Hierzu ein weiteres Beispiel:"
   ]
  },
  {
   "cell_type": "code",
   "execution_count": null,
   "metadata": {},
   "outputs": [],
   "source": [
    "import matplotlib.pyplot as plt\n",
    "\n",
    "# Erzeugung der X_Werte\n",
    "x = [0, 1, 2, 3, 4, 5, 6, 7, 8, 9, 10]\n",
    "# Erzeugung der Y-Werte\n",
    "y = [0, 1, 4, 9, 16, 25, 36, 49, 64, 81, 100]\n",
    "\n",
    "plt.plot(x, y)\n",
    "plt.plot(x) # übergeben wir nur eine Liste so wird diese als y Koordinaten über (0...n) interpretiert\n",
    "plt.show()# show zeigt nun beide Graphen"
   ]
  },
  {
   "cell_type": "markdown",
   "metadata": {},
   "source": [
    "Die Darstellung als Graph ist meistens für Datenpunkte unerwünscht, \n",
    "stattdessen wird ein Streudiagramm bevorzugt.\n",
    "Dieses können wir mittels „scatter“ erzeugen, welches ähnlich wie „plot“ verwendet wird."
   ]
  },
  {
   "cell_type": "code",
   "execution_count": null,
   "metadata": {},
   "outputs": [],
   "source": [
    "import matplotlib.pyplot as plt\n",
    "\n",
    "# Erzeugung der x Werte\n",
    "x = [0, 1, 2, 3, 4, 5, 6, 7, 8, 9, 10]\n",
    "# Erzeugung der Y-Werte\n",
    "y = [0, 1, 4, 9, 16, 25, 36, 49, 64, 81, 100]\n",
    "\n",
    "plt.scatter(x, y)\n",
    "plt.show()"
   ]
  },
  {
   "cell_type": "markdown",
   "metadata": {},
   "source": [
    "Versucht als Übungen nun die Quadrate und Kuben (3. Potenz) \n",
    "aller ganzen Zahlen zwischen 0 und 100 graphisch darzustellen. \n",
    "Die Verwendung von Schleifen und der Listenmethode „append“ könnte sich hierbei als nützlich erweisen."
   ]
  },
  {
   "cell_type": "code",
   "execution_count": null,
   "metadata": {},
   "outputs": [],
   "source": [
    "# Fügt hier bitte eure Lösung ein"
   ]
  },
  {
   "cell_type": "markdown",
   "metadata": {},
   "source": [
    "## Numpy-arrays\n",
    "Als nächstes wollen wir uns mit „numpy“-Arrays beschäftigen.\n",
    "Diese finden häufig Verwendung, da sie schnelleres Rechnen ermöglichen.\n",
    "Dies liegt daran, dass sie strikt typisiert und damit C-Arrays sehr ähnlich sind,\n",
    "was die Einsparungen in der Verarbeitung der Daten ermöglicht."
   ]
  },
  {
   "cell_type": "markdown",
   "metadata": {},
   "source": [
    "Zuerst wollen wir einmal einige „numpy“-Arrays erstellen.\n",
    "Wir beginnen damit eine Liste in ein „numpy“-Arrays umzuwandeln:"
   ]
  },
  {
   "cell_type": "code",
   "execution_count": null,
   "metadata": {},
   "outputs": [],
   "source": [
    "import numpy as np\n",
    "\n",
    "Liste = [1, 2, 4]\n",
    "array = np.array(Liste)\n",
    "print(array)"
   ]
  },
  {
   "cell_type": "markdown",
   "metadata": {},
   "source": [
    "Als nächstes nutzen wir 3 integrierte Funktionen um häufig verwendete „numpy“-Arrays zu erzeugen."
   ]
  },
  {
   "cell_type": "code",
   "execution_count": null,
   "metadata": {},
   "outputs": [],
   "source": [
    "import numpy as np\n",
    "\n",
    "# Arange gibt uns einen Zahlen in gleichmäßigen Intervallen, \n",
    "# kann im Gegensatz zu range, jedoch auch Fließkommazahlen verwenden\n",
    "arange = np.arange(0, 1, 0.1)\n",
    "# ones(n) erzeugt ein array mit n Einsen\n",
    "ones   = np.ones(5)\n",
    "# zeros(n) erzeug ein array mit n Nullen\n",
    "zeros  = np.zeros(3)\n",
    "print(arange)\n",
    "print(ones)\n",
    "print(zeros)"
   ]
  },
  {
   "cell_type": "markdown",
   "metadata": {},
   "source": [
    "Verwendet dieses Wissen nun um die Quadrate aller Zahlen zwischen 0 und 1 mit einem Intervall von 0.01 darzustellen:"
   ]
  },
  {
   "cell_type": "code",
   "execution_count": null,
   "metadata": {},
   "outputs": [],
   "source": [
    "# Fügt hier bitte eure Lösung ein"
   ]
  },
  {
   "cell_type": "markdown",
   "metadata": {},
   "source": [
    "### Nachteile von Numpy-Arrays\n",
    "Beschäftigen wir uns nun mit dem Nachteilen von „numpy“-Arrays. \n",
    "Der erste Nachteil ist die strikte Typisierung.\n",
    "So kann in einem Array nur ein Datentyp abgelegt werden.\n",
    "In folgendem Code werden damit alle Einträge innerhalb des „numpy“-Arrays auf den Datentyp „string“ gewzungen,\n",
    "wie ihr an den Anführungszeichen erkennen können werdet."
   ]
  },
  {
   "cell_type": "code",
   "execution_count": null,
   "metadata": {},
   "outputs": [],
   "source": [
    "import numpy as np\n",
    "Liste = [\"Klaus\", 1, 0.1]\n",
    "Array = np.array(Liste)\n",
    "print(Liste)\n",
    "print(Array)"
   ]
  },
  {
   "cell_type": "markdown",
   "metadata": {},
   "source": [
    "Ein zweites Problem resultiert aus der Hardware nahen Funktionsweise von numpy.\n",
    "Die Einträge der „numpy“-Arrays sind in bestimmten aufeinanderfolgenden Speicherzellen aufbewahrt.\n",
    "Diese Speicherzellen haben eine begrenzte Anzahl „Bits“,\n",
    "also boolescher Variable.\n",
    "Deren Wahrheitswerte genutzt werden um binäre Zahlen darzustellen.\n",
    "Hier ein Beispiel für die Darstellung der Zahl „201“ mit 8 „Bits“.\n",
    "\n",
    "|   Bit-Nummer   |   8  |   7  |   6  |   5  |   4  |   3  |   2  |   1  |\n",
    "|:--------------:|:----:|:----:|:----:|:----:|:----:|:----:|:----:|:----:|\n",
    "|Wahrheitswert   | Wahr | Wahr |Falsch|Falsch| Wahr |Falsch|Falsch| Wahr |\n",
    "|Binärdarstellung|   1  |   1  |   0  |   0  |   1  |   0  |   0  |   1  |\n",
    "|   Zahlenwert   |  128 |  64  |   32 |  16  |   8  |   4  |   2  |   1  |\n",
    "\n",
    "Im Arbeitsspeicher würden wir also: | Wahr | Wahr | Falsch | Falsch | Wahr | Falsch | Falsch | Wahr |\n",
    "\n",
    "Beziehungsweise: 11001001 finden.\n",
    "\n",
    "Mit 8 „Bits“ lassen sich $2^8$, also 256 verschiedene Zustände darstellen.\n",
    "Für ganze Zahl also der Zahlenraum von 0 bis 255 oder -128 bis 127."
   ]
  },
  {
   "cell_type": "markdown",
   "metadata": {},
   "source": [
    "Versuchen wir nun auf 255 (in binärer Schreibweise 11111111) 1 zu addieren so erhalten wir\n",
    "256 (in binärer Schreibweise 100000000).\n",
    "Diese können wir jedoch mit unseren Speicherzellen nicht mehr darstellen und die oberste Stelle geht verloren.\n",
    "Die im Arbeitsspeicher vorliegende Zahl ist 00000000 also 0.\n",
    "Dieses Verhalten bezeichnet man als Overflow."
   ]
  },
  {
   "cell_type": "code",
   "execution_count": null,
   "metadata": {},
   "outputs": [],
   "source": [
    "import numpy as np\n",
    "a = np.array([255], dtype=np.uint8)\n",
    "b = np.array([1], dtype=np.uint8)\n",
    "c = np.ones(1, dtype=np.uint8)\n",
    "c[0] = a[0] + b[0]\n",
    "print(c)"
   ]
  },
  {
   "cell_type": "markdown",
   "metadata": {},
   "source": [
    "## Datenverarbeitung \n",
    "Natürlich solltet ihr eure Messergebnisse machinenlesbar abspeichern, \n",
    "um sie automatisch auslesen und auswerten zu können.\n",
    "Ein Beispiel ist die Datei „data1.dat“.\n",
    "Wenn ihr wollt könnt ihr sie euch herunterladen und mit einem Texteditor (wie Notepad, Gedit oder vim) ansehen.\n",
    "Diese Datei können wir auch mit numpy einlesen.\n",
    "Hierfür verwenden wir „loadtxt“ aus „numpy“."
   ]
  },
  {
   "cell_type": "code",
   "execution_count": null,
   "metadata": {},
   "outputs": [],
   "source": [
    "import numpy as np\n",
    "\n",
    "values = np.loadtxt(\"data01.dat\")\n",
    "\n",
    "# Hier geben die eingelesenen Werte aus\n",
    "print(values)"
   ]
  },
  {
   "cell_type": "code",
   "execution_count": null,
   "metadata": {},
   "outputs": [],
   "source": [
    "import numpy as np\n",
    "\n",
    "values = np.loadtxt(\"data01.dat\")\n",
    "\n",
    "# Nun betrachten wir eines der eingelesenen Wertepaare, welche sich innerhalb einer Zeile befanden\n",
    "print(values[0])"
   ]
  },
  {
   "cell_type": "code",
   "execution_count": null,
   "metadata": {},
   "outputs": [],
   "source": [
    "import numpy as np\n",
    "\n",
    "values = np.loadtxt(\"data01.dat\")\n",
    "\n",
    "# Natürlich können wir auch einen Teil dieses Wertepaares ausgeben\n",
    "print(values[0][1])"
   ]
  },
  {
   "cell_type": "markdown",
   "metadata": {},
   "source": [
    "Als nächstes wollen wir nun diese Wertepaare als Punkte interpretieren \n",
    "und mittels „append“ in eine x- und eine y-Liste einfügen um sie anschließend mittels „scatter“ darzustellen."
   ]
  },
  {
   "cell_type": "code",
   "execution_count": null,
   "metadata": {},
   "outputs": [],
   "source": [
    "import numpy as np\n",
    "import matplotlib.pyplot as plt\n",
    "\n",
    "x = []\n",
    "y = []\n",
    "\n",
    "values = np.loadtxt(\"data01.dat\")\n",
    "for value in values:\n",
    "    x.append(value[0])\n",
    "    y.append(value[1])\n",
    "\n",
    "plt.scatter(x,y)\n",
    "plt.show()"
   ]
  },
  {
   "cell_type": "markdown",
   "metadata": {},
   "source": [
    "Versucht nun den Inhalt der Datei „data02.dat“ ebenfalls mit „scatter“ darzustellen."
   ]
  },
  {
   "cell_type": "code",
   "execution_count": null,
   "metadata": {},
   "outputs": [],
   "source": [
    "import numpy as np\n",
    "import matplotlib.pyplot as plt\n",
    "# Fügt hier bitte eure Lösung ein"
   ]
  },
  {
   "cell_type": "markdown",
   "metadata": {},
   "source": [
    "Bei „data03.csv“ handelt es sich um ein „Comma-seperated-value“-file.\n",
    "Die Werte werden also durch Kommata getrennt.\n",
    "Wir können sie mit dem „csv“-Modul einlesen."
   ]
  },
  {
   "cell_type": "code",
   "execution_count": null,
   "metadata": {
    "scrolled": true
   },
   "outputs": [],
   "source": [
    "import matplotlib.pyplot as plt\n",
    "import csv\n",
    "# Zuerst öffnen wir die Datei \"data03.csv\" und nennen sie \"csv_file\"\n",
    "# With sorgt auch dafür, dass der Code nur ausgeführt wird, wenn das öffnen erfolgreich war\n",
    "# und die Datei automatisch wieder geschlossen wird.\n",
    "with open(\"data03.csv\") as csv_file:\n",
    "    X = []\n",
    "    Y = []\n",
    "    # Nun erklären wir, dass die Werte durch den delimiter ','  getrennt werden\n",
    "    readCSV = csv.reader(csv_file, delimiter=',')\n",
    "    # Die einzelnen Zeilen sind nun Elemente in readCSV\n",
    "    for row in readCSV:\n",
    "        # Es gilt zu bemerken, dass die Daten noch als Strings(Zeichenketten) abgelegt sind\n",
    "        # Wir müssen sie also zu Fließkommazahlen konvertieren\n",
    "        X.append(float(row[0]))\n",
    "        Y.append(float(row[1]))\n",
    "    plt.scatter(X, Y)\n",
    "    plt.show()"
   ]
  },
  {
   "cell_type": "markdown",
   "metadata": {},
   "source": [
    "Verwendet nun diesen Skript um die Daten aus „data04.csv“ darzustellen."
   ]
  },
  {
   "cell_type": "code",
   "execution_count": null,
   "metadata": {},
   "outputs": [],
   "source": [
    "import csv\n",
    "import matplotlib.pyplot as plt\n",
    "# Fügt hier bitte eure Lösung ein"
   ]
  },
  {
   "cell_type": "markdown",
   "metadata": {},
   "source": [
    "Als nächstes sollt ihr die Daten aus „data05.csv“ darstellen. \n",
    "Wenn ihr euch die Datei anseht werdet ihr feststellen, \n",
    "dass die Werte durch „&“ getrennt werden.\n",
    "Um sie korrekt einlesen müsst ihr den Delimiter in der „csv.reader“ Funktion ändern."
   ]
  },
  {
   "cell_type": "code",
   "execution_count": null,
   "metadata": {},
   "outputs": [],
   "source": [
    "import csv\n",
    "import matplotlib.pyplot as plt\n",
    "# Fügt hier bitte eure Lösung ein"
   ]
  },
  {
   "cell_type": "markdown",
   "metadata": {},
   "source": [
    "In „data06.csv“ wurden die Fließkommazahlen mittels „,“ statt „.“ getrennt. \n",
    "Der einfachste weg dieses Problem zu lösen ist die „replace“ Methode der „string“-Klasse.\n",
    "Der Delimiter ist „;“."
   ]
  },
  {
   "cell_type": "code",
   "execution_count": null,
   "metadata": {},
   "outputs": [],
   "source": [
    "import csv\n",
    "import matplotlib.pyplot as plt\n",
    "with open(\"data06.csv\") as csv_file:\n",
    "        X = []\n",
    "        Y = []\n",
    "        # Nun erklären wir, dass die Werte durch den delimiter ','  getrennt werden\n",
    "        readCSV = csv.reader(csv_file, delimiter=';')\n",
    "        # Die einzelnen Zeilen sind nun Elemente in readCSV\n",
    "        for row in readCSV:\n",
    "            X.append(float(row[0].replace(\",\",\".\")))\n",
    "            Y.append(float(row[1].replace(\",\",\".\")))\n",
    "        plt.scatter(X,Y)\n",
    "        plt.show()"
   ]
  },
  {
   "cell_type": "markdown",
   "metadata": {},
   "source": [
    "In „data07.csv“ findet ihr einen Datensatz mit demselben Problem.\n",
    "Versucht diesen nun entsprechend zu bearbeiten."
   ]
  },
  {
   "cell_type": "code",
   "execution_count": null,
   "metadata": {},
   "outputs": [],
   "source": [
    "import csv\n",
    "import matplotlib.pyplot as plt\n",
    "# Fügt hier bitte eure Lösung ein"
   ]
  },
  {
   "cell_type": "markdown",
   "metadata": {},
   "source": [
    "Als nächstes betrachten wir „data08.csv“.\n",
    "Hier finden mehre Gaußkurven in verschiedenen Spalten.\n",
    "Als erstes wollen wir den Kommentar eliminieren.\n",
    "Hierbei könnten wir natürlich alle mit „#“ gekennzeichneten Zeilen ignorieren.\n",
    "Stattdessen werden wir die ersten Zeilen mittels eines Counters ignorieren,\n",
    "da wir dafür nicht das erste Zeichen der Zeile berücksichtigen müssen,\n",
    "was etwas komplizierter wäre."
   ]
  },
  {
   "cell_type": "code",
   "execution_count": null,
   "metadata": {},
   "outputs": [],
   "source": [
    "import csv\n",
    "import matplotlib.pyplot as plt\n",
    "with open(\"data08.csv\") as csv_file:\n",
    "    x = []\n",
    "    y = []\n",
    "    readCSV = csv.reader(csv_file, delimiter=\",\")\n",
    "    # Hier erzeugen wir einen Counter names Skip_lines, welcher die Anzahl der Kommentar Zeilen herunter zählt\n",
    "    Skip_lines = 2\n",
    "    for row in readCSV:\n",
    "        # Hier überspringen wir die Zeilen\n",
    "        if Skip_lines > 0:\n",
    "            Skip_lines -= 1\n",
    "        else:\n",
    "            # Hier lesen wir die erste Zeile ein\n",
    "            x.append(float(row[0]))\n",
    "            y.append(float(row[1]))\n",
    "    plt.scatter(x,y)\n",
    "    plt.show()"
   ]
  },
  {
   "cell_type": "markdown",
   "metadata": {},
   "source": [
    "Nun sollten wir noch die anderen Gaußkurven darstellen.\n",
    "Wir könnten natürlich für jede Zeile eine eigene Variable erstellen,\n",
    "stattdessen verwenden wir hier ein Konstrukt,\n",
    "welches dynamisch Listen in eine Superliste einfügt."
   ]
  },
  {
   "cell_type": "code",
   "execution_count": null,
   "metadata": {},
   "outputs": [],
   "source": [
    "import csv\n",
    "import matplotlib.pyplot as plt\n",
    "with open(\"data08.csv\") as csv_file:\n",
    "    readCSV = csv.reader(csv_file, delimiter=\",\")\n",
    "    Skip_lines = 2\n",
    "    # Hier erstellen wir eine Liste um unsere Ergebnisse zu speichern\n",
    "    result = []\n",
    "    # Mit dieser \"flag\" merken wir uns, ob dies unser erster Durchgang ist\n",
    "    first = True\n",
    "    for row in readCSV:\n",
    "        if Skip_lines > 0:\n",
    "            Skip_lines -= 1\n",
    "        else:\n",
    "            for i in range(0, len(row)):\n",
    "                if first:\n",
    "                    # Befinden wir uns ersten Durchgang erstellen wir neue Listen,\n",
    "                    # welche unsere Werte enthalten und appenden diese an result.\n",
    "                    result.append([float(row[i].replace(\",\",\".\"))])\n",
    "                else:\n",
    "                    # Anschließen können wir an diese Listen appenden\n",
    "                    result[i].append(float(row[i].replace(\",\",\".\")))\n",
    "            # Nachdem wir die Listen erzeugt haben setzen wir die Flag auf False,\n",
    "            # um nicht noch mehr Listen zu erzeugen.\n",
    "            if first:\n",
    "                first = False\n",
    "                \n",
    "    # Für die plots gehen wir ähnlich vor.\n",
    "    # Zuerst erstellen wir eine flag, welche angbit ob x bereits gelesen wurde\n",
    "    IsX = True\n",
    "    for array in result:\n",
    "        if IsX:\n",
    "            # Das erste Array, welches der ersten Spalte entspricht,\n",
    "            # wir hier eingelesen und die flag gesetzt.\n",
    "            x = array\n",
    "            IsX = False\n",
    "        else:\n",
    "            # Alle folgenden arrays sind die y Zeilen.\n",
    "            # Sie werden hier eingelesen und geplottet.\n",
    "            y = array\n",
    "            plt.scatter(x,y)\n",
    "    # Anschließend zeigen wir die plots.\n",
    "    plt.show()"
   ]
  },
  {
   "cell_type": "markdown",
   "metadata": {},
   "source": [
    "Nun versucht die in „data09.csv“ gegebenen Daten darzustellen."
   ]
  },
  {
   "cell_type": "code",
   "execution_count": null,
   "metadata": {},
   "outputs": [],
   "source": [
    "import csv\n",
    "import matplotlib.pyplot as plt\n",
    "# Fügt hier bitte eure Lösung ein"
   ]
  },
  {
   "cell_type": "markdown",
   "metadata": {},
   "source": [
    "Leider gibt es Datensätze, welche mit nicht einfach mit „csv.reader“ ausgelesen werden können.\n",
    "In diesen Fällen ist es meist sinnvoll die Zeilen einzeln als Zeichenketten zu bearbeiten.\n",
    "Ein Beispiel findet sich in „data10.dat“.\n",
    "Hier finden wir 2 durch Leerzeichen getrennte Spalten, denen Einheiten angehängt wurden.\n",
    "\n",
    "Um diese auswerten zu können müssen wir uns mit „slicing“ beschäftigen.\n",
    "Durch „slicing“ können wir eine Teilliste oder einen Teilstring aus einer Liste oder einem String auswählen.\n",
    "Hier ein kurzes Beispiel:"
   ]
  },
  {
   "cell_type": "code",
   "execution_count": null,
   "metadata": {},
   "outputs": [],
   "source": [
    "Liste = [\"Hallo, Klaus!\", 2, 3, 4]\n",
    "# Slicing findet innerhalb eckiger Klammern statt\n",
    "# Die erste Zahl gibt das erste Element an, ab dem gesliced wird.\n",
    "# Die zweite Zahl bis zu welchem Element gesliced wird. Diese ist nicht inkludiert!\n",
    "print(Liste[1:3])\n",
    "# Lassen wir eine Zahl weg. So wird bis zum passenden Ende gesliced.\n",
    "print(Liste[:2])\n",
    "print(Liste[2:])\n",
    "# Es ist auch möglich eine Schrittweite anzugeben.\n",
    "# Lassen wir uns zum Beispiel jedes 2 Element des Strings ausgeben\n",
    "String = Liste[0]\n",
    "print(String[::2])\n",
    "# Oder jedes 2 Element zwischen dem 2 und 8 Element\n",
    "print(String[2:9:2])\n",
    "# Es ist auch möglich eine negative Schrittweite zu wählen\n",
    "print(String[::-1])"
   ]
  },
  {
   "cell_type": "markdown",
   "metadata": {},
   "source": [
    "Da die Daten in „data10.dat“ sind durch Leerzeichen getrennt\n",
    "und alle gleich breit, weshalb slicing eine Möglichkeit darstellt sie zu separieren."
   ]
  },
  {
   "cell_type": "code",
   "execution_count": null,
   "metadata": {},
   "outputs": [],
   "source": [
    "import csv\n",
    "import matplotlib.pyplot as plt\n",
    "with open(\"data10.dat\") as csv_file:\n",
    "    Skip_lines = 2\n",
    "    result = []\n",
    "    first = True\n",
    "    # Statt dem CSV Reader anzuwenden lassen wir uns die Zeilen direkt als string übergeben.\n",
    "    for line in csv_file:\n",
    "        if Skip_lines > 0:\n",
    "            Skip_lines -= 1\n",
    "        else:\n",
    "            # Zuerst nutzen wir \"replace\" um die Einheiten zu eliminieren\n",
    "            line = line.replace(\"min\",\"   \") # Die Ersetzung hält die Abstände Konstant\n",
    "            line = line.replace(\"K\",\" \")\n",
    "            # Nun nutzen wir slicing um die Zeile in 2 Zeichenketten zu zerlegen.\n",
    "            row = [line[0:7], line[7:]]\n",
    "            for i in range(0, len(row)):\n",
    "                if first:\n",
    "                    result.append([float(row[i].replace(\",\",\".\"))])\n",
    "                else:\n",
    "                    result[i].append(float(row[i].replace(\",\",\".\")))\n",
    "            if first:\n",
    "                first = False\n",
    "                \n",
    "    IsX = True\n",
    "    for array in result:\n",
    "        if IsX:\n",
    "            x = array\n",
    "            IsX = False\n",
    "        else:\n",
    "            y = array\n",
    "            plt.scatter(x,y)\n",
    "    plt.show()"
   ]
  },
  {
   "cell_type": "markdown",
   "metadata": {},
   "source": [
    "Natürlich könnt ihr dies nun an „data11.dat“ ausprobieren."
   ]
  },
  {
   "cell_type": "code",
   "execution_count": null,
   "metadata": {},
   "outputs": [],
   "source": [
    "import csv\n",
    "import matplotlib.pyplot as plt\n",
    "# Fügt hier bitte eure Lösung ein"
   ]
  },
  {
   "cell_type": "markdown",
   "metadata": {},
   "source": [
    "Nun solltet ihr alle Fähigkeiten haben, welche ihr benötigen werdet um Daten-files einzulesen.\n",
    "Beginnt einmal mit „data12.dat“.\n",
    "Hierbei ist die Lösung relativ naheliegend, jedoch nicht unbedingt leicht zu finden."
   ]
  },
  {
   "cell_type": "code",
   "execution_count": null,
   "metadata": {},
   "outputs": [],
   "source": [
    "import csv\n",
    "import matplotlib.pyplot as plt\n",
    "# Fügt hier bitte eure Lösung ein"
   ]
  },
  {
   "cell_type": "markdown",
   "metadata": {},
   "source": [
    "Beschäftigt euch nun mit „data13.dat“.\n",
    "Leere Felder könnt ihr als „float(\"Nan\")“ einfügen,\n",
    "da „matplotlib“ nur Nummern einliest.\n",
    "(„Nan“ steht für „Not a number“ und ist ein definierter Zustand einer Fließkommazahl.)"
   ]
  },
  {
   "cell_type": "code",
   "execution_count": null,
   "metadata": {},
   "outputs": [],
   "source": [
    "import csv\n",
    "import matplotlib.pyplot as plt\n",
    "# Fügt hier bitte eure Lösung ein"
   ]
  },
  {
   "cell_type": "markdown",
   "metadata": {},
   "source": [
    "In „data14.dat“ findet ihr ein recht ähnliches Problem.\n",
    "Versucht sie darzustellen."
   ]
  },
  {
   "cell_type": "code",
   "execution_count": null,
   "metadata": {},
   "outputs": [],
   "source": [
    "import csv\n",
    "import matplotlib.pyplot as plt\n",
    "# Fügt hier bitte eure Lösung ein"
   ]
  },
  {
   "cell_type": "markdown",
   "metadata": {},
   "source": [
    "Hier findet ihr noch in „Astro.dat“ ein Beispiel aus der Praxis.\n",
    "Zwar sind die meisten Tabellen gutartiger, jedoch kann euch auch solch eine Tabelle begegnen.\n",
    "Versucht die Daten auszulesen und sinnvoll darzustellen.\n",
    "(Nachdem es sich um echte Daten handelt werdet ihr vermutlich keine eindeutig perfekte Darstellung finden.)"
   ]
  },
  {
   "cell_type": "code",
   "execution_count": null,
   "metadata": {},
   "outputs": [],
   "source": [
    "import csv\n",
    "import matplotlib.pyplot as plt\n",
    "# Fügt hier bitte eure Lösung ein"
   ]
  },
  {
   "cell_type": "markdown",
   "metadata": {},
   "source": [
    "Ein weiteres Praxisbeispiel findet ihr in „wireshark-capture.dat“,\n",
    "diese wurde für diese Übung von 260Mb auf 120kb verkürzt.\n",
    "Plottet bitte „No.“ gegen „ack“.\n",
    "Hierfür müsst ihr etwas Stringmanipulation betreiben."
   ]
  },
  {
   "cell_type": "code",
   "execution_count": null,
   "metadata": {},
   "outputs": [],
   "source": [
    "import csv\n",
    "import matplotlib.pyplot as plt\n",
    "# Fügt hier bitte eure Lösung ein"
   ]
  }
 ],
 "metadata": {
  "kernelspec": {
   "display_name": "Python 3",
   "language": "python",
   "name": "python3"
  },
  "language_info": {
   "codemirror_mode": {
    "name": "ipython",
    "version": 3
   },
   "file_extension": ".py",
   "mimetype": "text/x-python",
   "name": "python",
   "nbconvert_exporter": "python",
   "pygments_lexer": "ipython3",
   "version": "3.7.3"
  }
 },
 "nbformat": 4,
 "nbformat_minor": 2
}
