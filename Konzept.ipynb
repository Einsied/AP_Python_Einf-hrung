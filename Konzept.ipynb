{
 "cells": [
  {
   "cell_type": "markdown",
   "metadata": {},
   "source": [
    "# Übersicht"
   ]
  },
  {
   "cell_type": "markdown",
   "metadata": {},
   "source": [
    "## Erste Grundlagen (Tag 1)\n",
    "Ich...\n",
    "* verstehe das Konzept einer interpretierten Programmiersprache\n",
    "* kann Variablen in Python erzeugen.\n",
    "* verstehe wie Python mit Variablen umgeht.\n",
    "* bin in der Lage Variablen zu verändern.\n",
    "* kenne die Grundlegenden arithmetischen Operatoren in Python:\n",
    "    * =\n",
    "    * +\n",
    "    * -\n",
    "    * /\n",
    "    * \\* \\*\n",
    "* kann Variablen ausgeben.\n",
    "* kann Variablen einlesen.\n",
    "* verstehe das Konzept des Datentyps.\n",
    "* verstehe das Konzept der Referenz.\n",
    "* kann eine Liste erzeugen.\n",
    "* die Einträge einer Liste manipulieren."
   ]
  },
  {
   "cell_type": "markdown",
   "metadata": {},
   "source": [
    "## Kontrollstrukturen, Funktionen, Klassen & Refernzen (Tag 2)\n",
    "Ich...\n",
    "* verstehe den Aufbau von Kontrollanweisungen.\n",
    "* kann Vergleichsoperatoren in Python verwenden.\n",
    "* kann boolsche Operatoren verwenden.\n",
    "* kann „if“-Anweisungen verwenden.\n",
    "* kann Schleifen anwenden und unterbrechen.\n",
    "* kann eine Funktion erstellen.\n",
    "* verstehe den Unterschied zwischen globalen und lokalen Variablen\n",
    "* habe eine Lambda-Funktion gesehen.\n",
    "* kann eine Funktionsreferenz verwenden.\n",
    "* verstehe den Unterschied zwischen globalen und lokalen Variablen\n",
    "* kann Methoden verwenden\n",
    "* kenne die grundlegenden Methoden für Listen (append, pop, sort)\n",
    "* verstehe den Unterschied zwischen Tupeln und Listen\n",
    "* kann den Datentyp dict verwenden\n",
    "* kenne die Grundlegenden Methoden der string Klasse (format, split, strip)"
   ]
  },
  {
   "cell_type": "markdown",
   "metadata": {},
   "source": [
    "## Module & CSV (Tag 3)\n",
    "Ich...\n",
    "* weiß wie ich Module verwende. \n",
    "    * habe erste Erfahrungen mit numpy gesammelt.\n",
    "        * kenne die Funktion numpy.arange.\n",
    "        * kenne die Funktion numpy.zeros.\n",
    "        * kenne die Funktion numpy.ones.\n",
    "        * kenne numpy.loadtxt.\n",
    "        * verstehe numpy arrays.\n",
    "            * verstehe das Konzept eines Overflows.\n",
    "    * habe erste Erfahrungen mit matplotlib gesammelt.\n",
    "        * kenne die Funktion plot.\n",
    "        * kenne die Funktion scatter.\n",
    "    * kann mit dem CSV-modul umgehen.\n",
    "* Kann CSV-Daten einlesen und Kodierungsfehler beheben."
   ]
  },
  {
   "cell_type": "markdown",
   "metadata": {},
   "source": [
    "## Plotten  & Fitten (Tag 4)\n",
    "Ich...\n",
    "* kann mit der Funktion Plot umgehen.\n",
    "* kann mit der Funktion Scatter umgehen.\n",
    "* weiß wann ich Scatter und wann ich plot verwenden sollte.\n",
    "* kann einen mit matplotlib erstellten plot abspeichern.\n",
    "* meine Graphen mit Beschriftungen versehen:\n",
    "    * Achsen\n",
    "    * Title\n",
    "    * Legende\n",
    "    * Bemerkungen\n",
    "* kann meine Achsen einschränken.\n",
    "* weiß, dass ich mehrere Achsen erzeugen kann.\n",
    "* kann meine Diagramme gliedern.\n",
    "* kann Diagramme mit Fehlerbalken erstellen.\n",
    "* kann Histogramme erstellen.\n",
    "* weiß wie ich meine Diagramme abspeichere.\n",
    "* bin mir bewusst das auch komplexere Daten (wie Bilder, Pfade, Konturen) geplottet werden können.\n",
    "* kann Curve_Fit anwenden.\n",
    "* kann mit ODR umgehen."
   ]
  }
 ],
 "metadata": {
  "kernelspec": {
   "display_name": "Python 3",
   "language": "python",
   "name": "python3"
  },
  "language_info": {
   "codemirror_mode": {
    "name": "ipython",
    "version": 3
   },
   "file_extension": ".py",
   "mimetype": "text/x-python",
   "name": "python",
   "nbconvert_exporter": "python",
   "pygments_lexer": "ipython3",
   "version": "3.7.3"
  }
 },
 "nbformat": 4,
 "nbformat_minor": 2
}
