{
 "cells": [
  {
   "cell_type": "markdown",
   "metadata": {},
   "source": [
    "# Kontrollstrukturen, Funktionen und Klassen"
   ]
  },
  {
   "cell_type": "markdown",
   "metadata": {},
   "source": [
    "Gestern hatten wir uns mit den Lösungen vom quadratischen Gleichungen befasst,\n",
    "welche auch in den komplexen Zahlen liegen können.\n",
    "Innerhalb eines Programmes möchten wir eventuell mit komplexen Lösungen anders verfahren \n",
    "als mit Lösungen im Realraum.\n",
    "Hierfür können wir Kontrollstrukturen verwenden."
   ]
  },
  {
   "cell_type": "markdown",
   "metadata": {},
   "source": [
    "## Boolesche Variablen und Operatoren\n",
    "Die meisten Kontrollstrukturen arbeiten mit Bedingung wie zum Beispiel $i > 0$. \n",
    "Dies können mithilfe von sogenannten Vergleichsoperatoren überprüft werden.\n",
    "* \\> = entspricht $\\geq$\n",
    "* \\> entspricht $>$\n",
    "* <= entspricht $\\leq$\n",
    "* < entspricht $<$\n",
    "* != entspricht $\\neq$\n",
    "* == entspricht =  (Vorsicht dieser Operatoren wird häufig mit dem Zuweisungsoperator verwechselt)\n",
    "* is testet on 2 Objekte identisch sind, bzw. ob die Referenz gleich ist\n",
    "* in überprüft ob ein Objekt in einer Liste oder einem ähnlichen Objekt vorkommt\n",
    "\n",
    "Diese Vergleichsoperatoren geben sogenannte boolesche Variablen zurück, welche Wahrheitswerten entsprechen. \n",
    "Diese können mittels booleschen Operatoren verrechnet werden.\n",
    "* „and“ entspricht dem logischen „und“ (∧)\n",
    "* „or“ entspricht dem logischen „oder“ (∨)\n",
    "* „not“ entspricht dem logischen „nicht“ (¬)\n",
    "\n",
    "Hier ein kurzes Beispiel:"
   ]
  },
  {
   "cell_type": "code",
   "execution_count": null,
   "metadata": {},
   "outputs": [],
   "source": [
    "print(3 <= 4)\n",
    "print(3 == 4)"
   ]
  },
  {
   "cell_type": "markdown",
   "metadata": {},
   "source": [
    "## Das if-statement\n",
    "Die „if“-Anweisung ist eine sehr simple Anweisung.\n",
    "Sie dient dazu Code nur unter bestimmten Umständen auszuführen.\n",
    "Nehmen wir an wir möchten überprüfen, \n",
    "ob eine Zahl durch 4 teilbar ist und dann eine Nachricht ausgeben."
   ]
  },
  {
   "cell_type": "code",
   "execution_count": null,
   "metadata": {},
   "outputs": [],
   "source": [
    "Zahl = 12\n",
    "\n",
    "# Nutzung des Modulo Operator (%) um den Rest der Division zu bestimmen\n",
    "Rest = Zahl%4\n",
    "\n",
    "if ( Rest == 0 ) : # Die Klammern sind nicht nötig\n",
    "    # Dieser Block wird ausgeführt falls der Rest 0 war\n",
    "    print( \"Diese Zahl ist durch 4 teilbar.\" )"
   ]
  },
  {
   "cell_type": "markdown",
   "metadata": {},
   "source": [
    "Als nächstes wollen wir noch eine Nachricht ausgeben, falls der Wert nicht durch 4 aber durch 2 teilbar ist.\n",
    "Hierfür verwenden wir die „elif“-Anweisung.\n",
    "Diese folgt auf eine „if“- oder „elif“-Anweisung und wird ausgeführt,\n",
    "falls die Bedingungen der vorherigen Anweisungen nicht erfüllt werden und ihre Bedingung wahr ist."
   ]
  },
  {
   "cell_type": "code",
   "execution_count": null,
   "metadata": {},
   "outputs": [],
   "source": [
    "Zahl = 12\n",
    "\n",
    "\n",
    "if   Zahl % 4 == 0 : # Hier verwenden wir den Modulo Operator direkt in der Bedingung\n",
    "    print( \"Diese Zahl ist durch 4 teilbar.\" )\n",
    "elif Zahl % 2 == 0:\n",
    "    print( \"Die  Zahl ist gerade.\" )"
   ]
  },
  {
   "cell_type": "markdown",
   "metadata": {},
   "source": [
    "Zuletzt wollen wir noch eine Nachricht ausgeben, \n",
    "falls die Zahl weder durch 4 noch durch 2 teilbar ist.\n",
    "Hierzu verwenden wir die „else“-Anweisung.\n",
    "Diese hat keine Bedingung und wird ausgeführt falls keine Anweisung zuvor ausgeführt wurde."
   ]
  },
  {
   "cell_type": "code",
   "execution_count": null,
   "metadata": {},
   "outputs": [],
   "source": [
    "Zahl = 11\n",
    "\n",
    "\n",
    "if   Zahl % 4 == 0 : # Hier verwenden wir den Modulo Operator direkt in der Bedingung\n",
    "    print( \"Diese Zahl ist durch 4 teilbar.\" )\n",
    "elif Zahl % 2 == 0:\n",
    "    print( \"Die  Zahl ist gerade.\" )\n",
    "else:\n",
    "    print(\"Die Zahl ist weder durch 4 noch durch 2 teilbar.\")"
   ]
  },
  {
   "cell_type": "markdown",
   "metadata": {},
   "source": [
    "In Python dienen Einrückungen zur Markierung von Skript-/Code-Blöcken. \n",
    "Deshalb kann nicht beliebig eingerückt werden. \n",
    "Alles was nicht Teil des „if“-Blocks ist wird nach diesem ausgeführt. \n",
    "Es ist auch möglich „if“-Anweisungen ineinander zu verschachteln wie das folgende Beispiel zeigt."
   ]
  },
  {
   "cell_type": "code",
   "execution_count": null,
   "metadata": {},
   "outputs": [],
   "source": [
    "Zahl = 20\n",
    "if Zahl%2 == 0 :\n",
    "    print(\"Die Zahl ist gerade\")\n",
    "    if (Zahl%4==0 and Zahl > 16): \n",
    "        print(\"Die Zahl ist ein vielfaches von 4 und größer als 16.\")\n",
    "print(\"Das Quadrat der Zahl ist:\" + str(Zahl**2))"
   ]
  },
  {
   "cell_type": "markdown",
   "metadata": {},
   "source": [
    "**Kontrollstrukturen bestehen aus einen Schlüsselwort,\n",
    "meist gefolgt von einer Bedingung \n",
    "und einem eingerückten Anweisungsblock.**\n",
    "\n",
    "Beispiel:"
   ]
  },
  {
   "cell_type": "code",
   "execution_count": null,
   "metadata": {},
   "outputs": [],
   "source": [
    "if (True):\n",
    "    do_something()"
   ]
  },
  {
   "cell_type": "markdown",
   "metadata": {},
   "source": [
    "Nutzt dieses Wissen und die „type()“-Funktion und boolsche Operatoren um herauszufinden, \n",
    "ob die Lösungen der quadratischen Gleichung real oder komplex sind und für den Fall,\n",
    "dass sie real sind alle Lösungen größer als 4 auszugeben."
   ]
  },
  {
   "cell_type": "code",
   "execution_count": null,
   "metadata": {},
   "outputs": [],
   "source": [
    "a = float(input(\"Was ist a?\"))\n",
    "b = float(input(\"Was ist b?\"))\n",
    "c = float(input(\"Was ist c?\"))\n",
    "Wurzel=( (b**2) - (4*a*c) ) ** (1/2)\n",
    "x_1 = (-b + Wurzel)/(2*a)\n",
    "x_2 = (-b - Wurzel)/(2*a)\n",
    "\n",
    "X = [x_1, x_2]\n",
    "\n",
    "# Beispiel für eine Typ-überprüfung\n",
    "print(type(2+3j) is complex)\n",
    "\n",
    "# Fügt hier bitte eure Lösung ein"
   ]
  },
  {
   "cell_type": "markdown",
   "metadata": {},
   "source": [
    "## Schleifen\n",
    "### Die „while“-Schleife\n",
    "In einigen Fällen möchte man eine Aktion wiederholen, bis eine bestimmte Bedingung nicht mehr erfüllt ist. \n",
    "Dies kann mittels der „while“-Schleife erreicht werden. \n",
    "Diese ähnelt der „if“-Anweisung.\n",
    "Sie besteht ebenfalls aus einer Bedingung und einem Anweisungsblock.\n",
    "Dieser Block wird allerdings ausgeführt solange die Bedingung wahr ist. \n",
    "Ein einfaches Beispiel ist eine naive Implementierung der Division mit Rest."
   ]
  },
  {
   "cell_type": "code",
   "execution_count": null,
   "metadata": {},
   "outputs": [],
   "source": [
    "# Einlesen von integern\n",
    "Dividend = int( input(\"Dividend?:\"))\n",
    "Divisor = int(input(\"Divisor?:\" ))\n",
    "\n",
    "# Anlegen des Quotienten\n",
    "Quotient = 0\n",
    "\n",
    "# Solange der Dividend größer/gleich dem Divisor ist wird die Schleife ausgeführt\n",
    "while(Dividend >= Divisor):\n",
    "    # Zuerst erhöhen wir den Quotienten um 1\n",
    "    Quotient += 1 # Dies ist eine andere Formulierung für Quotient = Quotient + 1\n",
    "    # Dann ziehen wir vom Dividend den Divisor ab\n",
    "    Dividend -= Divisor\n",
    "\n",
    "# Dann geben wir das Ergebnis aus\n",
    "print (\n",
    "    \"Quotient: \"\n",
    "    + str(Quotient)\n",
    "    +\"; Rest: \"\n",
    "    + str(Dividend)\n",
    ")\n",
    "# Die Division in einem Computer funktioniert nicht so!"
   ]
  },
  {
   "cell_type": "markdown",
   "metadata": {},
   "source": [
    "### Die „for“-Schleife\n",
    "Eine spezielle Variante der „while“-Schleife ist die „for“-Schleife. In diesem Falle enthält die Bedingung einen Zähler, welcher von einer bestimmten Zahl zu einer anderen zählt. Diese Variante wird so häufig verwendet, dass sie gesondert als „for“ zur Verfügung steht.\n",
    "\n",
    "\n",
    "Als simples Beispiel wollen wir $\\sum_{k=2}^{n} q^{k}$ berechnen."
   ]
  },
  {
   "cell_type": "code",
   "execution_count": null,
   "metadata": {},
   "outputs": [],
   "source": [
    "# Einlesen der Variablen\n",
    "q = float(input(\"q?:\"))\n",
    "n = int(input(\"Summe bis?:\" ) )\n",
    "\n",
    "# Hier führen wir 3 Variablen ein um die Funktion von range anschaulicher zu machen\n",
    "start = 2\n",
    "stop = n+1\n",
    "step = 1\n",
    "\n",
    "Summe = 0\n",
    "for k in range( start, stop, step ):\n",
    "    Summe += q**k\n",
    "print(Summe)"
   ]
  },
  {
   "cell_type": "markdown",
   "metadata": {},
   "source": [
    "### Nutzung von „break“ und „continue“\n",
    "In einigen Fällen will man eine Schleife ausführen bis eine bestimmte Bedingung erfüllt ist. Dies kann mit der „break“-Anweisung erreicht werden. Wird diese erreicht überspringt das Programm alle weiteren Anweisungen innerhalb der Schleife und verlässt diese."
   ]
  },
  {
   "cell_type": "code",
   "execution_count": null,
   "metadata": {},
   "outputs": [],
   "source": [
    "for k in range (1, 10, 1):\n",
    "    if (k == 6):\n",
    "        break\n",
    "    print (k)"
   ]
  },
  {
   "cell_type": "markdown",
   "metadata": {},
   "source": [
    "Dieses Programm gibt 1,2,3,4,5 aus. Die 6 wird nicht ausgegeben, da die „break“-Anweisung zu erst erreicht wird. Die „continue“ führt genau wie die „break“-Anweisung \n",
    "zum Überspringen aller folgenden Anweisungen beendet, jedoch nicht den Schleifendurchlauf."
   ]
  },
  {
   "cell_type": "code",
   "execution_count": null,
   "metadata": {},
   "outputs": [],
   "source": [
    "for k in range (1, 10, 1):\n",
    "    if (k == 6):\n",
    "        continue\n",
    "    print (k)"
   ]
  },
  {
   "cell_type": "markdown",
   "metadata": {},
   "source": [
    "Deshalb gibt dieses Programm 1,2,3,4,5,7,8,9 aus. Die 6 wird durch „continue“-Anweisung übersprungen."
   ]
  },
  {
   "cell_type": "markdown",
   "metadata": {},
   "source": [
    "## Übungen Schleifen\n",
    "Nun zu einigen praktischen Übungen zu Schleifen."
   ]
  },
  {
   "cell_type": "markdown",
   "metadata": {},
   "source": [
    "### Fakultät\n",
    "Zuerst soll mithilfe der „for“ die Fakultät einer während der Ausführung wählbaren Natürlichen Zahl n berechnet werden."
   ]
  },
  {
   "cell_type": "code",
   "execution_count": null,
   "metadata": {},
   "outputs": [],
   "source": [
    "# Fügt hier bitte eure Lösung ein"
   ]
  },
  {
   "cell_type": "markdown",
   "metadata": {},
   "source": [
    "### Fibonacci\n",
    "Nun sollt ihr die Fibonnacifolge implementieren und das „n“-te Folgenglied ausgeben.\n",
    "Die Fibonnacifolge ist definiert als:\n",
    "\n",
    "$x_{i} = x_{i-1} + x_{i-2} \\; \\mathrm{für} \\; x > 1$\n",
    "\n",
    "$x_1 = 1$\n",
    "\n",
    "$x_0 = 0$"
   ]
  },
  {
   "cell_type": "code",
   "execution_count": null,
   "metadata": {},
   "outputs": [],
   "source": [
    "# Fügt hier bitte eure Lösung ein"
   ]
  },
  {
   "cell_type": "markdown",
   "metadata": {},
   "source": [
    "### Newton Verfahren\n",
    "Nun soll mithilfe der „while“ Schleife, ein Näherungswert für eine Wurzel berechnet werden. Hierzu verwenden wir das Newton-verfahren, in welchem ausgehend von einem geratenen Startwert, über mehrere Iterationsschritte ein Näherungswert bestimmt wird. Die Iterationsformel lautet:\n",
    "$$ x_{n+1} = x_{n}−\\frac{f(x_{n})}{f'(x_{n})}$$\n",
    "In unserem Falle gilt $f(x) = x^{2} − a $ womit wir folgende Iterationsformel erhalten:\n",
    "$$x_{n+1} = x_{n} − \\frac{x^{2}_{n} − a}{2x_{n}}$$\n",
    "Um die erreichte Genauigkeit abzuschätzen, hoffen wir dass dieses Verfahren schön konvergiert und nutzen die Differenz $|x_{n+1} − x_{n}|$.\n",
    "Ziel ist es ein Skript zu schreiben, welches für eine gegebene natürliche Zahl $a$ die Quadratwurzel mit einer gegebenen Genauigkeit $b$ bestimmt."
   ]
  },
  {
   "cell_type": "code",
   "execution_count": null,
   "metadata": {},
   "outputs": [],
   "source": [
    "# Fügt hier bitte eure Lösung ein"
   ]
  },
  {
   "cell_type": "markdown",
   "metadata": {},
   "source": [
    "## Funktionen\n",
    "Beim erstellen komplexerer Programme ist es nützlich Funktionen zu definieren, um die Übersichtlichkeit zu erhöhen. Diese nehmen Argumente entgegen und geben ein Ergebnis zurück. \n",
    "Als Beispiel wandeln wir unseren Skript zum Lösen der quadratischen Gleichung in eine Funktion um."
   ]
  },
  {
   "cell_type": "code",
   "execution_count": null,
   "metadata": {},
   "outputs": [],
   "source": [
    "# Zuerst benennen wir die Funktion und geben ihre Argumente (a,b,c) an\n",
    "def ABC_Formel( a, b, c):\n",
    "    # Die Argumente können direkt verwendet werden\n",
    "    Wurzel=( (b**2) - (4*a*c) ) ** (1/2)\n",
    "    x_1 = (-b + Wurzel)/(2*a)\n",
    "    x_2 = (-b - Wurzel)/(2*a)\n",
    "    X = [x_1, x_2]\n",
    "    # Am Ende geben wir das Ergebnis zurück:\n",
    "    return X\n",
    "\n",
    "# Wir könne das Ergebnis der Funktion einer Variablen zuweisen\n",
    "Ergebnis = ABC_Formel(2, 5, 3)\n",
    "print(Ergebnis)\n",
    "\n",
    "# Wir können die Funktion auch in einer anderen Funktion aufrufen\n",
    "print(ABC_Formel(-1, 0, 2))"
   ]
  },
  {
   "cell_type": "markdown",
   "metadata": {},
   "source": [
    "Verwendet dieses Wissen nun, um das Newton Verfahren in eine Funktion einzubetten."
   ]
  },
  {
   "cell_type": "code",
   "execution_count": null,
   "metadata": {},
   "outputs": [],
   "source": [
    "# Fügt hier bitte eure Lösung ein"
   ]
  },
  {
   "cell_type": "markdown",
   "metadata": {},
   "source": [
    "Man kann in Funktionen nicht nur andere Funktionen rufen, \n",
    "sondern auch die ursprüngliche Funktion. \n",
    "Als Beispiel betrachten wird hier die rekursiv definierte Fakultät.\n",
    "\n",
    "$n! = (n-1)! \\cdot n \\; \\mathrm{für} \\; n>0 $\n",
    "    \n",
    "$0! = 1 $\n",
    "\n",
    "Diese kann wie folgt implementiert werden:"
   ]
  },
  {
   "cell_type": "code",
   "execution_count": null,
   "metadata": {},
   "outputs": [],
   "source": [
    "def Fakultät(n):\n",
    "    # Zuerst prüfen wir auf die Abbruchbedingung der Rekursion\n",
    "    if n > 0:\n",
    "        # Hier rufen wir die Funktion mit verringertem n auf\n",
    "        return Fakultät(n-1)*n \n",
    "    else:\n",
    "        return 1\n",
    "    \n",
    "print(Fakultät(4))"
   ]
  },
  {
   "cell_type": "markdown",
   "metadata": {},
   "source": [
    "Nahezu alle rekursiven Funktionen, \n",
    "können in iterative Funktionen umgewandelt werden,\n",
    "wodurch sie mittels „for“-Schleifen implementiert werden können.\n",
    "Dies ist günstig, da „for“-Schleifen meist deutlich weniger Ressourcen verbrauchen als rekursive Funktionen.\n",
    "\n",
    "Leider gilt dies nicht für alle Funktionen eine Ausnahme ist die Ackermannfunktion:\n",
    "\n",
    "$\\mathrm{Ackermann}(n,m) = m+1 \\; \\mathrm{für} \\; n=0$\n",
    "\n",
    "$\\mathrm{Ackermann}(n,m) = \\mathrm{Ackermann}(n-1,1) \\; \\mathrm{für} \\; m=0$\n",
    "\n",
    "$\\mathrm{Ackermann}(n,m) = \\mathrm{Ackermann}(n-1,\\mathrm{Ackermann}(n,m-1)) \\; \\mathrm{für} \\; m \\neq 0, n\\neq 0$\n",
    "\n",
    "Versucht diese nun zu implementieren:"
   ]
  },
  {
   "cell_type": "code",
   "execution_count": null,
   "metadata": {},
   "outputs": [],
   "source": [
    "# Fügt hier bitte eure Lösung ein"
   ]
  },
  {
   "cell_type": "markdown",
   "metadata": {},
   "source": [
    "### Funktionsreferenzen und Lambda-Funktionen\n",
    "In Python ist eine Funktion ein Objekt.\n",
    "Sie kann also einer Variablen zugewiesen werden.\n",
    "Hier ein kurzes Beispiel:"
   ]
  },
  {
   "cell_type": "code",
   "execution_count": null,
   "metadata": {},
   "outputs": [],
   "source": [
    "# Zuerst erstellen wir die Funktion \"greet\"\n",
    "def greet(n):\n",
    "    print(\"Hallo, \"+str(n))\n",
    "# Nun weisen wir der Funktion den neuen Namen \"Grüße\" zu\n",
    "Grüße = greet\n",
    "# Grüße weist nun auf die vorher definierte Funktion \n",
    "Grüße(\"Klaus\")"
   ]
  },
  {
   "cell_type": "markdown",
   "metadata": {},
   "source": [
    "Funktionen welche nicht mehr als einen Wert zurückgeben, \n",
    "können auch als lambda-Funktionen definiert werden.\n",
    "Dies wird manchmal verwendet um Zeichen zu sparen \n",
    "und den Code leserlicher zu gestalten.\n",
    "Hier ein simples Beispiel, welches 2 Zahlen multipliziert."
   ]
  },
  {
   "cell_type": "code",
   "execution_count": null,
   "metadata": {},
   "outputs": [],
   "source": [
    "Produkt = lambda a, b: a * b\n",
    "print(Produkt(2,5))"
   ]
  },
  {
   "cell_type": "markdown",
   "metadata": {},
   "source": [
    "Es ist wichtig zu bemerken, dass Funktionen losgelöst von ihrem Namen existieren,\n",
    "wenn dieser überschrieben wird.\n",
    "Hier ein kurzes Beispiel, welches auf dem der „greet“-Funktion aufbaut:"
   ]
  },
  {
   "cell_type": "code",
   "execution_count": null,
   "metadata": {},
   "outputs": [],
   "source": [
    "def greet(n):\n",
    "    print(\"Hallo, \"+str(n))\n",
    "\n",
    "Grüße = greet\n",
    "greet = 2\n",
    "# Grüße weißt nun auf die vorher definierte Funktion \n",
    "Grüße(\"Klaus\")\n",
    "# greet jedoch auf 2\n",
    "print(greet)\n",
    "print(type(greet), type(Grüße))"
   ]
  },
  {
   "cell_type": "markdown",
   "metadata": {},
   "source": [
    "### Funktionen und Variablen\n",
    "Wie ihr bereits gesehen habt kann man in Funktionen neue Variablen definieren.\n",
    "Diese werden als lokale Variablen bezeichnet.\n",
    "Sie stehen nur innerhalb der Funktionen zur Verfügung.\n",
    "Im falle von Namensgleichheit mit einer übergeordneten Variable\n",
    "wird diese dennoch nicht beeinflusst.\n",
    "Hier ein kurzes Beispiel."
   ]
  },
  {
   "cell_type": "code",
   "execution_count": null,
   "metadata": {},
   "outputs": [],
   "source": [
    "# Gobal wird außerhalb der Funktion erstellt und steht über ihr\n",
    "Global = 3\n",
    "\n",
    "def do_stuff(a):\n",
    "    # Innerhalb der Funktion versuchen wir nun foo zu überschreiben\n",
    "    foo = 4\n",
    "    Lokal = a\n",
    "    # Hier greifen wir auf unsere lokalen Variablen zu\n",
    "    print(Lokal*Global)\n",
    "    \n",
    "do_stuff(\"Klaus \")\n",
    "# Rufen wir nun print mit foo, so gibt es die globale Version von foo aus\n",
    "print(Global)\n",
    "# Unsere lokale Variable existiert außerhalb der Funktion nicht mehr \n",
    "print(Lokal)"
   ]
  },
  {
   "cell_type": "markdown",
   "metadata": {},
   "source": [
    "Variablen welche an die Funktion übergeben werden zeigen 2 verschiedene Verhaltensweisen.\n",
    "Diese hängen vom Typ der Variablen ab.\n",
    "Zu den veränderlichen („mutable“) Objekten gehören:\n",
    "Listen, Dictionaries und Sets.\n",
    "Alle anderen Standardtypen sind nicht veränderlich.\n",
    "Veränderliche Objekte, können in Funktionen verändert werden hier ein kurzes Beispiel:"
   ]
  },
  {
   "cell_type": "code",
   "execution_count": null,
   "metadata": {},
   "outputs": [],
   "source": [
    "def Change_int(Zahl):\n",
    "    Zahl = 2\n",
    "    return Zahl\n",
    "\n",
    "def Change_list(Liste):\n",
    "    Liste[1] = \"Change\"\n",
    "    return Liste\n",
    "\n",
    "Liste_gl = [1, 2, 3]\n",
    "Zahl_gl = 1\n",
    "\n",
    "print(Change_int(Zahl_gl), Zahl_gl)\n",
    "print(Change_list(Liste_gl),Liste_gl)"
   ]
  },
  {
   "cell_type": "markdown",
   "metadata": {},
   "source": [
    "## Klassen und Methode\n",
    "Es ist möglich eigene Variablen zu erstellen und diese mit eigenen Operatoren zu versehen.\n",
    "Diesen Vorgang müsst ihr nicht nachahmen können. \n",
    "Euch sollte nur bewusst sein das es möglich ist."
   ]
  },
  {
   "cell_type": "code",
   "execution_count": null,
   "metadata": {},
   "outputs": [],
   "source": [
    "# Zuerst definieren wir eine Klasse Namens rectangle\n",
    "class rectangle:\n",
    "    # Nun den Konstruktor, welcher die notwendigen Variablen initialisiert\n",
    "    def __init__(self, w, h):\n",
    "        self.width = float(w)\n",
    "        self.height = float(h)\n",
    "    # Nun eine Funktion, genannt Methode, welche nur über die Funktion gerufen werden kann\n",
    "    def area(self):\n",
    "        return self.width * self.height\n",
    "    # Nun eine weitere Funktion\n",
    "    def change(self, w, h):\n",
    "        self.width = float(w)\n",
    "        self.height = float(h)\n",
    "    # Zuletzt überladen wir noch den Additionsoperator\n",
    "    def __add__(self, other):\n",
    "        Result = rectangle(self.width + other.width, self.height + other.height)\n",
    "        return Result\n",
    "        \n",
    "# Zuerst erstellen wir ein Rechteck und nennen es A\n",
    "A = rectangle(2,2)\n",
    "# Nun errechnen wir den Flächeninhalt und geben ihn aus\n",
    "print(A.area())\n",
    "# Nun rufen wir die Methode change um das Rechteck zu ändern\n",
    "A.change(3,5)\n",
    "# Nun errechnen wir erneut die Fläche\n",
    "print(A.area())\n",
    "# Nun erzeugen wir noch ein weiteres Rechteck names B\n",
    "B = rectangle(2,2)\n",
    "# Addieren wir nun beide erhatlen wir ein neues Rechteck C\n",
    "C = A+B\n",
    "# Dessen Flächeninhalt geben wir nun erneut aus\n",
    "print(C.area())\n",
    "# Zuletzt erzeugen wir noch ein neues Rechteck in der Klammer und wenden erneut die Methode darauf an\n",
    "print((B+C).area())"
   ]
  },
  {
   "cell_type": "markdown",
   "metadata": {},
   "source": [
    "**Merke: Einige Datentypen haben Funktionen, welche für diese spezifisch sind.\n",
    "Diese können mit einem „.“ und dem Namen der Funktion gerufen werden.**\n",
    "\n",
    "Der Datentyp „Liste“ ist sehr gut für die Demonstration einiger praktischere Beispiele geeignet. "
   ]
  },
  {
   "cell_type": "code",
   "execution_count": null,
   "metadata": {},
   "outputs": [],
   "source": [
    "Liste = [1, 12, 28, 5, 3, 7, 5, 17]\n",
    "# Mit der Methode \".sort()\" können wir eine Liste sortieren\n",
    "Liste.sort()\n",
    "print(Liste)"
   ]
  },
  {
   "cell_type": "code",
   "execution_count": null,
   "metadata": {},
   "outputs": [],
   "source": [
    "# Mit der Methode \".append(Value)\" können wir etwas and Ende der Liste hinzufügen\n",
    "Liste.append(\"Hello\")\n",
    "print(Liste)"
   ]
  },
  {
   "cell_type": "code",
   "execution_count": null,
   "metadata": {},
   "outputs": [],
   "source": [
    "# Mit der Methode \".insert(index, value)\" können wir vor der Position index ein value einfügen\n",
    "Liste.insert(4, \"Fünftes\")\n",
    "print(Liste)"
   ]
  },
  {
   "cell_type": "code",
   "execution_count": null,
   "metadata": {},
   "outputs": [],
   "source": [
    "# Mit der Mehtode \".count(value)\" können wir zählen wie häufig ein Wert auftritt\n",
    "print(Liste.count(5))"
   ]
  },
  {
   "cell_type": "code",
   "execution_count": null,
   "metadata": {},
   "outputs": [],
   "source": [
    "# Die Methode \"pop(index)\"\" entfernt einen Wert und gibt in auch zurück.\n",
    "# Wird kein index übergeben, so wird das letzte Element entfernt.\n",
    "Fünftes_Element = Liste.pop(4)\n",
    "print(Fünftes_Element)\n",
    "print(Liste)"
   ]
  },
  {
   "cell_type": "markdown",
   "metadata": {},
   "source": [
    "Nun könnt ihr dieses Wissen nutzen um alle Farben in dieser Liste zu entfernen und stattdessen RGB-Werte einzufügen \n",
    "und diese anschließend zu sortieren.\n",
    "Die RGB-Werte finden sich in folgender Tabelle:\n",
    "\n",
    "|Farbe |  RGB-Wert        |\n",
    "|:----:|:----------------:|\n",
    "| Rot  | ( 255,   0,   0) |\n",
    "| Grün | (   0, 255,   0) |\n",
    "| Blau | (   0,   0, 255) |"
   ]
  },
  {
   "cell_type": "code",
   "execution_count": null,
   "metadata": {},
   "outputs": [],
   "source": [
    "Farb_Liste = [\"Rot\", \"Grün\", \"Blau\"]\n",
    "# Fügt hier bitte eure Lösung ein"
   ]
  },
  {
   "cell_type": "markdown",
   "metadata": {},
   "source": [
    "## For-Schleifen und Listen\n",
    "Nun zurück zur „for“-Schleife:\n",
    "„For a in range(start, end, step):“ scheint eine seltsame Formulierung zu sein. \n",
    "Was genau sucht das „in“ hier? \n",
    "Die Antwort darauf ist relativ simpel. „range()“ ist kein notwendiger Bestandteil der „for“-Schleife, \n",
    "stattdessen ist es eine Funktion welche ein *iterierbares* Objekt generiert.\n",
    "\n",
    "Wir kennen bereits ein iterierbares Objekt nämlich die Liste.\n",
    "Wir können mit „for()“ nun über diese iterieren."
   ]
  },
  {
   "cell_type": "code",
   "execution_count": null,
   "metadata": {},
   "outputs": [],
   "source": [
    "Farben = [\"Rot\", \"Blau\", \"Grün\", \"Gelb\", \"Purpur\"]\n",
    "for Farbe in Farben:\n",
    "    print(Farbe)"
   ]
  },
  {
   "cell_type": "markdown",
   "metadata": {},
   "source": [
    "Gemeinsam mit den Methoden der Liste können wir nun zum Beispiel Rechenschritte aufschreiben.\n",
    "Als Beispiel wählen wir hier das Newton-Verfahren:"
   ]
  },
  {
   "cell_type": "code",
   "execution_count": null,
   "metadata": {},
   "outputs": [],
   "source": [
    "# Einlesen der Parameter\n",
    "a = 2\n",
    "x_old = a\n",
    "x = a*2\n",
    "Genauigkeit = 0.1**3\n",
    "\n",
    "# Erstellen einer leeren Liste\n",
    "X_Liste = []\n",
    "\n",
    "while(abs(x_old-x) > Genauigkeit):\n",
    "    # Einfügen des letzen X-Wertes in die Liste\n",
    "    X_Liste.append(x)\n",
    "    \n",
    "    x_temp = x\n",
    "    x = x_old - (x_old**2-a)/(2*x_old)\n",
    "    x_old = x_temp\n",
    "\n",
    "# Ausgabe der Liste\n",
    "print(X_Liste)"
   ]
  },
  {
   "cell_type": "markdown",
   "metadata": {},
   "source": [
    "Als nächstes wollen wir die einzelnen Glieder der Fakultät ausgeben.\n",
    "Modifiziert das gegebene Skript entsprechend."
   ]
  },
  {
   "cell_type": "code",
   "execution_count": null,
   "metadata": {},
   "outputs": [],
   "source": [
    "n = 3\n",
    "Ergebnis = 1\n",
    "Ergebnis_Liste = []\n",
    "for k in range(0, n+1, 1):\n",
    "    if k > 0:\n",
    "        Ergebnis *= k\n",
    "    # Hier fehlt noch etwas damit der Skript korrekt läuft.\n",
    "        \n",
    "print(Ergebniss_Liste)"
   ]
  },
  {
   "cell_type": "markdown",
   "metadata": {},
   "source": [
    "Nun könnt ihr noch die Glieder der Fibonnaci-Folge ausgeben.\n",
    "Zur Erinnerung sie wird definiert durch:\n",
    "\n",
    "$x_{i} = x_{i-1} + x_{i-2} \\; \\mathrm{für} \\; x > 1$\n",
    "\n",
    "$x_1 = 1$\n",
    "\n",
    "$x_0 = 0$"
   ]
  },
  {
   "cell_type": "code",
   "execution_count": null,
   "metadata": {},
   "outputs": [],
   "source": [
    "# Fügt hier bitte eure Lösung ein"
   ]
  },
  {
   "cell_type": "markdown",
   "metadata": {},
   "source": [
    "Natürlich sind dies Übungsbeispiele, \n",
    "welche für die Praxis nicht so relevant sind.\n",
    "In der Praxis möchte man meist Werte manipulieren.\n",
    "Als Beispiel wollen wir hier Schrittweise eine Werte-Liste auswerten\n",
    "und anschließend dem Mittelwert errechnen."
   ]
  },
  {
   "cell_type": "code",
   "execution_count": null,
   "metadata": {},
   "outputs": [],
   "source": [
    "# Hier finden wir die verschiedenen Werte\n",
    "Liste_Werte  = [5.05, 4.83, 4.84, 4.93, 5.03, 4.8, 4.97, 5.01, 4.92, 5.14]\n",
    "\n",
    "# Nun legen wir eine leere Liste für die Ergebnisse an\n",
    "Liste_Wurzeln = []\n",
    "\n",
    "# Nun iterieren wie durch die Liste der Werte\n",
    "for Wert in Liste_Werte:\n",
    "    # Wir errechnen die Wurzel und fügen diese in die Ergebnis-Liste ein\n",
    "    Liste_Wurzeln.append(Wert**(1/2))\n",
    "    \n",
    "# Um uns zu überzeugen, dass dies funktioniert hat geben wir die Liste aus\n",
    "print(Liste_Wurzeln)\n",
    "\n",
    "# Nun errechnen wir die Summen beider Listen mit der Funktion \"sum\"\n",
    "Werte_Summe   = sum(Liste_Werte)\n",
    "Wurzeln_Summe = sum(Liste_Wurzeln)\n",
    "\n",
    "# Um den Durchschnitt zu erhalen könne wir die Length-Funtkion \"len\"\n",
    "Werte_Anzahl   = len(Liste_Werte)\n",
    "Wurzeln_Anzahl = len(Liste_Wurzeln)\n",
    "\n",
    "# Am Ende errechnen wir die Durchschnitte und geben diese aus\n",
    "print(Werte_Summe/Werte_Anzahl)\n",
    "print(Wurzeln_Summe/Wurzeln_Anzahl)"
   ]
  },
  {
   "cell_type": "markdown",
   "metadata": {},
   "source": [
    "Als Beispiel untersuchen wir hier eine Gewichtsmessung,\n",
    "aus welcher wir den mittleren Body-Mass-Index ermitteln wollen."
   ]
  },
  {
   "cell_type": "code",
   "execution_count": null,
   "metadata": {},
   "outputs": [],
   "source": [
    "Gewichte = [\n",
    "    72.1, 80.9, 86.1, 77.5, 79.5, 80.5, 73.3, 86.7, 81.4, 84.9,\n",
    "    78.9, 86.1, 84.5, 82.3, 81.4, 77.1, 78.7, 84.5, 79.2, 83.1, \n",
    "    81.0, 77.6, 88.8, 74.9, 79.8, 74.5, 75.0, 85.2, 81.8, 93.6, \n",
    "    88.8, 79.2, 87.8, 89.6, 75.9, 78.8, 86.8, 83.6, 79.6, 79.2, \n",
    "    89.3, 80.3, 77.7, 79.2, 78.3, 79.5, 73.4, 82.6, 72.0, 85.5, \n",
    "    71.4, 86.0, 88.5, 69.6, 83.8, 76.0, 76.5, 84.5, 72.3, 82.4, \n",
    "    83.7, 81.2, 77.1, 79.1, 76.3, 73.4, 79.3, 74.3, 83.5, 82.6, \n",
    "    78.4, 80.0, 78.3, 84.3, 77.5, 84.5, 79.4, 80.9, 84.7, 75.8, \n",
    "    84.9, 72.4, 80.7, 80.0, 69.1, 82.5, 77.8, 75.4, 84.6, 78.4, \n",
    "    84.1, 89.8, 85.5, 89.7, 71.1, 90.2, 89.4, 85.6, 81.2, 81.0, \n",
    "    68.2, 80.8, 80.7, 82.7, 77.8, 77.2, 81.4, 84.2, 79.9, 82.7, \n",
    "    85.2, 81.9, 85.5, 78.0, 87.4, 74.7, 83.3, 92.1, 83.6, 78.5, \n",
    "    79.6, 71.6, 83.7, 84.4, 78.7, 70.2, 72.1, 70.0, 73.5, 83.9, \n",
    "    88.6, 78.4, 81.6, 80.3, 74.7, 88.9, 83.6, 77.3, 78.6, 74.2, \n",
    "    84.7, 82.3, 85.0, 70.0, 82.3, 77.1, 80.1, 88.7, 83.4, 78.3, \n",
    "    77.2, 80.6, 88.0, 90.0, 81.7, 85.9, 77.0, 83.8, 83.3, 76.2, \n",
    "    82.8, 85.3, 69.7, 81.2, 81.6, 81.8, 80.3, 79.1, 82.8, 78.0, \n",
    "    75.7, 92.3, 81.1, 72.7, 82.9, 79.4, 81.2, 75.1, 78.0, 81.1, \n",
    "    79.6, 82.5, 75.9, 79.9, 67.9, 87.1, 75.5, 77.5, 73.9, 77.0, \n",
    "    79.3, 73.9, 76.3, 81.5, 80.4, 78.8, 82.8, 75.3, 80.7, 77.6\n",
    "]"
   ]
  },
  {
   "cell_type": "markdown",
   "metadata": {},
   "source": [
    "Hier befindet sich die Definition einer Funktion zur Errechnung des BMI:"
   ]
  },
  {
   "cell_type": "code",
   "execution_count": null,
   "metadata": {},
   "outputs": [],
   "source": [
    "Körperhöhe = 1.80\n",
    "def BMI(Gewicht):\n",
    "    return Gewicht/(Körperhöhe**2)"
   ]
  },
  {
   "cell_type": "markdown",
   "metadata": {},
   "source": [
    "Erstellt nun eine Liste mit den BMIs."
   ]
  },
  {
   "cell_type": "code",
   "execution_count": null,
   "metadata": {},
   "outputs": [],
   "source": [
    "# Fügt hier bitte eure Lösung ein"
   ]
  },
  {
   "cell_type": "markdown",
   "metadata": {},
   "source": [
    "Nun nutzt die „sum“ und „len“ Funktionen um den Durchschnitt zu errechnen."
   ]
  },
  {
   "cell_type": "code",
   "execution_count": null,
   "metadata": {},
   "outputs": [],
   "source": [
    "# Fügt hier bitte eure Lösung ein"
   ]
  },
  {
   "cell_type": "markdown",
   "metadata": {},
   "source": [
    "## Tupel, Dictionaries und Strings\n",
    "Zuletzt wollen wir uns noch 3 weiteren häufigen Datenttypen zuwenden.\n",
    "Zuerst beginnen wir mit Tupeln.\n",
    "Tupel ähneln Listen sind jedoch unveränderlich beziehungsweise „inmutable“.\n",
    "Hier ein kurzes Beispiel:"
   ]
  },
  {
   "cell_type": "code",
   "execution_count": null,
   "metadata": {},
   "outputs": [],
   "source": [
    "# Zuerst erzeugen wir das Tupel\n",
    "Person_Data = (\"Connor\", \"MacLeod\", 1518)\n",
    "\n",
    "# Nun geben wir das 2. Element des Tupels aus\n",
    "print(Person_Data[1])\n",
    "\n",
    "# Der Versuch ein Element zu verändern scheitert, da das Tupel unveränderlich ist\n",
    "Person_Data[0]=\"Klaus\""
   ]
  },
  {
   "cell_type": "markdown",
   "metadata": {},
   "source": [
    "Nun wenden wir uns assoziativen Arrays oder „dictonaries“ zu,\n",
    "diese sind veränderliche beziehungsweise „mutable“ Objekte.\n",
    "Im Gegensatz zu Listen haben sie keinen fortlaufenden Index, \n",
    "sondern Schlüssel, zu welchen Werte gehören.\n",
    "Hier ein kurzes Beispiel:"
   ]
  },
  {
   "cell_type": "code",
   "execution_count": null,
   "metadata": {},
   "outputs": [],
   "source": [
    "# Zuerst erstellen wir ein dicttioanry mit 3 Paaren\n",
    "Farben = {\"red\": \"rot\", \"green\": \"grün\", \"blue\": \"blau\"}\n",
    "\n",
    "# Hier rufen wir den Wert zum Eintrag \"red\" auf\n",
    "print(Farben[\"red\"])\n",
    "\n",
    "# Und hier noch einmal das gesamte dictionary\n",
    "print(Farben)"
   ]
  },
  {
   "cell_type": "markdown",
   "metadata": {},
   "source": [
    "Um ein Schlüssel-Wert-Paar zu überschreiben, verwenden wir praktisch dieselbe Syntax wie für Listen."
   ]
  },
  {
   "cell_type": "code",
   "execution_count": null,
   "metadata": {},
   "outputs": [],
   "source": [
    "Farben = {\"red\": \"rot\", \"green\": \"grün\", \"blue\": \"blau\"}\n",
    "Farben[\"red\"] = \"gelb\"\n",
    "print(Farben[\"red\"])"
   ]
  },
  {
   "cell_type": "markdown",
   "metadata": {},
   "source": [
    "Das Hinzufügen neuer Werte geschieht mittels Angabe eines neuen Keys."
   ]
  },
  {
   "cell_type": "code",
   "execution_count": null,
   "metadata": {},
   "outputs": [],
   "source": [
    "Farben = {\"red\": \"rot\", \"green\": \"grün\", \"blue\": \"blau\"}\n",
    "Farben[\"yellow\"] = \"gelb\"\n",
    "print(Farben[\"yellow\"])\n",
    "print(Farben)"
   ]
  },
  {
   "cell_type": "markdown",
   "metadata": {},
   "source": [
    "Dies kann zum versehentlichen Überschreiben alter Keys führen kann.\n",
    "Dies kann jedoch mittels einer „if“-Abfrage vermieden werden."
   ]
  },
  {
   "cell_type": "code",
   "execution_count": null,
   "metadata": {},
   "outputs": [],
   "source": [
    "Farben = {\"red\": \"rot\", \"green\": \"grün\", \"blue\": \"blau\"}\n",
    "if \"red\" in Farben:\n",
    "    print(\"Key exists already\")"
   ]
  },
  {
   "cell_type": "markdown",
   "metadata": {},
   "source": [
    "Natürlich gibt es auch für „dictonaries“ nützliche Methoden.\n",
    "Hier einige Beispiele:"
   ]
  },
  {
   "cell_type": "code",
   "execution_count": null,
   "metadata": {},
   "outputs": [],
   "source": [
    "# \"keys()\" gibt alle Schlüssel aus\n",
    "print(Farben.keys())\n",
    "# \"values\" gibt alle Werte aus, diese sind genau wie die Schlüssel sortiert\n",
    "print(Farben.values())\n",
    "# \"items\" gibt uns die Schlüssel Werte-Paare aus\n",
    "print(Farben.items())\n",
    "# Nutzen wir den Listen Konstruktor können wir die entsprechenden Ausgaben in Listen umwandeln\n",
    "print(list(Farben.keys()))"
   ]
  },
  {
   "cell_type": "markdown",
   "metadata": {},
   "source": [
    "Nun könnt ihr dieses Wissen in einer kleinen Übung nutzen.\n",
    "Im Folgenden findet ihr ein „dictonary“, \n",
    "welches einige Farben als Schlüssel und die zugehörigen RGB-Werte enthält.\n",
    "Diese Werte sind als Integer-Tupel zwischen 0 und 255 gegeben.\n",
    "Fügt dem gegebenen Beispiel die Farben „white“ entspricht (255,255,255) und „black“ entspricht (0,0,0), hinzu."
   ]
  },
  {
   "cell_type": "code",
   "execution_count": null,
   "metadata": {},
   "outputs": [],
   "source": [
    "# Erzeugen eines leeren dictionaries\n",
    "RGB_Farben = {}\n",
    "\n",
    "# Einfügen der Farben\n",
    "RGB_Farben[\"Red\"]   = ( 255,   0,   0)\n",
    "RGB_Farben[\"Blue\"]  = (   0, 255,   0)\n",
    "RGB_Farben[\"Green\"] = (   0,   0, 255)\n",
    "\n",
    "# Fügt hier bitte eure Lösung ein"
   ]
  },
  {
   "cell_type": "markdown",
   "metadata": {},
   "source": [
    "Als nächstes wollen wir die gegebenen Integerwerte durch Fließkommazahlen zwischen 0 und 1 ersetzen."
   ]
  },
  {
   "cell_type": "code",
   "execution_count": null,
   "metadata": {},
   "outputs": [],
   "source": [
    "# Als kleine Hilfe hier eine for-Schleife, welche über die Schlüssel iteriert\n",
    "for key in RGB_Farben:\n",
    "    print(key)\n",
    "\n",
    "# Fügt hier bitte eure Lösung ein"
   ]
  },
  {
   "cell_type": "markdown",
   "metadata": {},
   "source": [
    "Zuletzt wollen wir die neuen Paare noch in einer hübschen Form ausgeben.\n",
    "Hierfür können wir die „format“ Methode der „string“-Klasse verwenden.\n",
    "Hier ein Kurzes Beispiel, welches den Schlüssel und Grünwert ausgibt."
   ]
  },
  {
   "cell_type": "code",
   "execution_count": null,
   "metadata": {},
   "outputs": [],
   "source": [
    "for key in RGB_Farben:\n",
    "    print(\"Der Schlüssel ist {k:s}. Mit dem Grünwert:{g:0.2f}\".format(k = key, g = RGB_Farben[key][1]))"
   ]
  },
  {
   "cell_type": "markdown",
   "metadata": {},
   "source": [
    "Die eckigen Klammern markieren einzufügende Daten.\n",
    "Alles vor dem Doppelpunkt ist ein „label“, welches wir anschließend in „format“ verwenden können.\n",
    "Hinter dem Doppelpunkt erfolgt die Definition der Daten.\n",
    "Die Zahl gibt die Anzahl der aufzufüllenden Stellen an,\n",
    "wird sie von einem Punkt gefolgt so kann die Anzahl der Nachkommastellen definiert werden.\n",
    "Der Buchstabe am Ende steht für den Datentyp. \n",
    "Hier eine kurze Tabelle mit häufig verwendeten Datentypen:\n",
    "\n",
    "|Datentyp  | Kürzel| Darstellung|\n",
    "|:--------:|:-----:|:----------:|\n",
    "|String    | s     |   Beispiel |\n",
    "|Integer   | d     |         12 |\n",
    "|Fließkomma| f     |      23.32 |\n",
    "|Fließkomma| e     |  2.332e+01 |\n",
    "\n",
    "Sowie ein Versuch die Komponenten der geschweiften Klammern etwas klarer darzustellen:\n",
    "\n",
    "| { | label | : | Vorkommastellen | . | Nachkommastellen | Datentyp | } |.format(| label = Value )|\n",
    "|:-:|:-----:|:-:|:---------------:|:-:|:----------------:|:--------:|:-:|:------:|:--------------:|\n",
    "\n",
    "Versucht damit nun alle Schlüssel mit ihren Farbwerten aus RGB_Farben auszugeben."
   ]
  },
  {
   "cell_type": "code",
   "execution_count": null,
   "metadata": {},
   "outputs": [],
   "source": [
    "# Fügt hier bitte eure Lösung ein"
   ]
  },
  {
   "cell_type": "markdown",
   "metadata": {},
   "source": [
    "Zuletzt noch ein kurzer Ausblick auf die Praxis.\n",
    "Häufig werden Daten als Comma-seperated-value-sheets (CSV) abgelegt.\n",
    "Hier werde ich eine kurze Beispielzeile erstellen:"
   ]
  },
  {
   "cell_type": "code",
   "execution_count": null,
   "metadata": {},
   "outputs": [],
   "source": [
    "Zeile = \"{Wert1:12.4f}, {Wert2:4d}, {Wert3:s}\".format(Wert1= 13242.3456, Wert2 = 31, Wert3 = \"Messung #12\")\n",
    "print(Zeile)"
   ]
  },
  {
   "cell_type": "markdown",
   "metadata": {},
   "source": [
    "Diese wollen wir nun wieder einlesen.\n",
    "Hierfür verwenden wir die „split“  Methode der „string“-Klasse,\n",
    "um die einzelnen Werte auszulesen."
   ]
  },
  {
   "cell_type": "code",
   "execution_count": null,
   "metadata": {},
   "outputs": [],
   "source": [
    "Zeilen_Werte_Liste =Zeile.split(',')\n",
    "print(Zeilen_Werte_Liste)"
   ]
  },
  {
   "cell_type": "markdown",
   "metadata": {},
   "source": [
    "Nicht gewünschte Zeichen am Anfang oder Ende können mit der „strip“-Methode entfernt werden.\n",
    "Wird kein Zeichen genannt so werden Leerzeichen und Tabulatoren entfernt.\n",
    "Hier ein kurzes Beispiel:"
   ]
  },
  {
   "cell_type": "code",
   "execution_count": null,
   "metadata": {},
   "outputs": [],
   "source": [
    "Wert1_string = Zeilen_Werte_Liste[0]\n",
    "# Ein Beispiel für das entfernen unnötiger Leerzeichen\n",
    "Wert2_string = Zeilen_Werte_Liste[1].strip()\n",
    "# Ein Beispiel für das entfernen eines Zeichens\n",
    "Wert3_string = Zeilen_Werte_Liste[2].strip('#')\n",
    "# Nun sollten wollen wir noch Alle Leerzeichen links entfernen \"lstrip\" erfüllt diese Funtkion\n",
    "# (Es gibt natürlich auch \"rstrip\")\n",
    "Wert3_string = Wert3_string.lstrip()\n",
    "\n",
    "# Ausgabe der Ergebnisse\n",
    "print(Wert1_string)\n",
    "print(Wert2_string)\n",
    "print(Wert3_string)"
   ]
  },
  {
   "cell_type": "markdown",
   "metadata": {},
   "source": [
    "Nun müssen wir die Strings nur noch in die entsprechenden Datentypen rückumwandeln."
   ]
  },
  {
   "cell_type": "code",
   "execution_count": null,
   "metadata": {},
   "outputs": [],
   "source": [
    "# Wert 1 war eine Fließkommazahl also nutzen wir float\n",
    "Wert1 = float(Wert1_string)\n",
    "# Wert 2 eine ganze Zahl also nutzen wir int\n",
    "Wert2 = int(Wert2_string)\n",
    "# Wert 3 ist bereits ein string also müssen wir nichts ändern\n",
    "Wert3 = Wert3_string\n",
    "\n",
    "print(Wert1)\n",
    "print(Wert2)\n",
    "print(Wert3)"
   ]
  },
  {
   "cell_type": "markdown",
   "metadata": {},
   "source": [
    "Zur Übung sollt ihr nun die Werte aus einer Zeile auslesen:"
   ]
  },
  {
   "cell_type": "code",
   "execution_count": null,
   "metadata": {},
   "outputs": [],
   "source": [
    "Zeile = \"{Energieverbrauch:6.3f}kwh, {Tag:2d}, {Monat:2d}, {Jahr:4d}, {Adresse:32s}\".format(\n",
    "    Energieverbrauch = 3459.231, Tag = 3, Monat = 11, Jahr = 2010, Adresse = \"Somewhere\"\n",
    ")\n",
    "\n",
    "# Fügt hier bitte eure Lösung ein"
   ]
  }
 ],
 "metadata": {
  "kernelspec": {
   "display_name": "Python 3",
   "language": "python",
   "name": "python3"
  },
  "language_info": {
   "codemirror_mode": {
    "name": "ipython",
    "version": 3
   },
   "file_extension": ".py",
   "mimetype": "text/x-python",
   "name": "python",
   "nbconvert_exporter": "python",
   "pygments_lexer": "ipython3",
   "version": "3.7.3"
  }
 },
 "nbformat": 4,
 "nbformat_minor": 2
}
