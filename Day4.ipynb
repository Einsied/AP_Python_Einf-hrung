{
 "cells": [
  {
   "cell_type": "markdown",
   "metadata": {},
   "source": [
    "# Plotten"
   ]
  },
  {
   "cell_type": "markdown",
   "metadata": {},
   "source": [
    "Nachdem ihr nun in der Lage seid Daten auszulesen wollen wir uns nun mit deren Darstellung beschäftigen.\n",
    "Die Funktionen „plot“ und „scatter“ aus dem Modul „matplotlib.pyplot“ kennt ihr bereits.\n",
    "Bevor wir uns nun etwas näher mit ihnen beschäftigen, \n",
    "soll noch einmal auf ihren Verwendungszweck hingewiesen werden.\n",
    "Da „plot“ eine durchgehende Linie erstellt sollte es für die Darstellung mathematischer Gesetzmäßigkeiten verwendet werden oder wenn die Daten sehr klar eine Kurve beschreiben,\n",
    "um dem Leser zu helfen diese zu erkennen.\n",
    "Folgen die Daten keiner klaren Gesetzmäßigkeit oder streuen stark so sollte „scatter“ verwendet werden.\n",
    "Im Idealfall stellt man sowohl die Datenpunkte, sowie den vermutetet Zusammenhang dar.\n",
    "Um dieses Ziel zu erreichen beginnen wir mit einer kleinen Wiederholung und lesen  „data15.csv“ ein."
   ]
  },
  {
   "cell_type": "code",
   "execution_count": null,
   "metadata": {},
   "outputs": [],
   "source": [
    "# Wir beginnen mit dem importieren der Module\n",
    "import matplotlib.pyplot as plt\n",
    "import csv\n",
    "# Nun geben wir den Namen unseres files an um es später leichter ändern zu können\n",
    "filename = \"data15.csv\"\n",
    "with open(filename) as csv_file:\n",
    "    # Jetzt legen wir Listen für die Werte an\n",
    "    X = []\n",
    "    Y = []\n",
    "    # Nun folgt noch die einlese Konfiguration\n",
    "    readCSV = csv.reader(csv_file, delimiter=',')\n",
    "    Header = 1\n",
    "    for row in readCSV:\n",
    "        if Header > 0:\n",
    "            Header -= 1\n",
    "            continue\n",
    "        # Und am Ende das anfügen an die Listen\n",
    "        X.append(float(row[0]))\n",
    "        Y.append(float(row[2]))"
   ]
  },
  {
   "cell_type": "markdown",
   "metadata": {},
   "source": [
    "Nun wollen wir die X und Y Werte darstellen."
   ]
  },
  {
   "cell_type": "code",
   "execution_count": null,
   "metadata": {},
   "outputs": [],
   "source": [
    "plt.scatter(X,Y)\n",
    "plt.show()"
   ]
  },
  {
   "cell_type": "markdown",
   "metadata": {},
   "source": [
    "Natürlich fehlt diesem Diagramm noch einiges.\n",
    "Ein „Titel“ zum Beispiel. \n",
    "Diesen können wir mit „plt.titel“ erzeugen."
   ]
  },
  {
   "cell_type": "code",
   "execution_count": null,
   "metadata": {},
   "outputs": [],
   "source": [
    "plt.scatter(X,Y)\n",
    "plt.title(\"$X^2$ mit Fehlern\")\n",
    "plt.show()"
   ]
  },
  {
   "cell_type": "markdown",
   "metadata": {},
   "source": [
    "Die Formulierung „$x^2$“ entstammt der Textbeschreibungssprache „TeX“.\n",
    "Da uns die Zeit fehlt auf diese näher einzugehen hier die Grundlagen:\n",
    "* „\\\\$ Formel \\\\$“ ist die Mathematikumgebung und ermöglicht das setzen von Formeln.\n",
    "* „{}“ schließen einzelne Teile einer mathematischen Formel ein.\n",
    "* „{Basis}^{Exponent}“ wird dargestellt als ${Basis}^{Exponent}$.\n",
    "* „{Basis}_{Index}“ wird dargestellt als ${Basis}_{Index}$.\n",
    "* Mit „\\frac{Zähler}{Nenner}“  kann mann Brüche darstellen:$\\frac{Zähler}{Nenner}$\n",
    "* Mit „\\mathrm{Text}“ lässt sich nicht kursiver Text setzen:  $\\mathrm{Text}$\n",
    "\n",
    "Jedoch sollte in den meisten Fällen gewöhnlicher Text genügen."
   ]
  },
  {
   "cell_type": "markdown",
   "metadata": {},
   "source": [
    "Es wäre auch schön unserer Achsenzu  beschriften.\n",
    "Hierfür verwenden wir „plt.xlabel“ bzw. „plt.ylabel“."
   ]
  },
  {
   "cell_type": "code",
   "execution_count": null,
   "metadata": {},
   "outputs": [],
   "source": [
    "plt.scatter(X,Y)\n",
    "plt.title(\"$X^2$ mit Fehlern\")\n",
    "plt.xlabel(\"X-Werte\")\n",
    "plt.ylabel(\"Y-Werte\")\n",
    "plt.show()"
   ]
  },
  {
   "cell_type": "markdown",
   "metadata": {},
   "source": [
    "Damit ihr etwas Übung bekommt würde ich euch nun bitten diese Kenntnisse anzuwenden,\n",
    "um den Sinus im Intervall (0, 2$\\pi$) darzustellen.\n",
    "Beschriftet die Achsen und gebt dem Diagramm eine Überschrift."
   ]
  },
  {
   "cell_type": "code",
   "execution_count": null,
   "metadata": {},
   "outputs": [],
   "source": [
    "# Erzeugen der Daten\n",
    "import numpy as np\n",
    "X_sin = np.arange(0, 2*np.pi, 0.1)\n",
    "Y_sin = np.sin(X_sin)\n",
    "\n",
    "# Fügt hier bitte eure Lösung ein"
   ]
  },
  {
   "cell_type": "markdown",
   "metadata": {},
   "source": [
    "Nehmen wir nun an wir müssten von den in  „data15.csv“ gegebenen Y-Werten einen konstanten Untergrund abziehen\n",
    "und wollten die neuen sowie die Originaldaten im gleichen Diagramm darstellen.\n",
    "Dann könnten wir 2 mal „plt.scatter“ rufen."
   ]
  },
  {
   "cell_type": "code",
   "execution_count": null,
   "metadata": {},
   "outputs": [],
   "source": [
    "# Zuerst importieren wir wieder die Module und lesen die CSV-Datei ein\n",
    "import matplotlib.pyplot as plt\n",
    "import csv\n",
    "filename = \"data15.csv\"\n",
    "with open(filename) as csv_file:\n",
    "    X = []\n",
    "    Y = []\n",
    "    readCSV = csv.reader(csv_file, delimiter=',')\n",
    "    Header = 1\n",
    "    for row in readCSV:\n",
    "        if Header > 0:\n",
    "            Header -= 1\n",
    "            continue\n",
    "        X.append(float(row[0]))\n",
    "        Y.append(float(row[2]))\n",
    "        \n",
    "    # Nun ziehen wir den Untergrund ab\n",
    "    Background = 10\n",
    "    Y_Corrected = []\n",
    "    for y in Y:\n",
    "        Y_Corrected.append(y - Background)\n",
    "        \n",
    "    # Nun kommen wir zur Darstellung\n",
    "    plt.title(\"$X^2$ Messung\")\n",
    "    plt.xlabel(\"X-Werte\")\n",
    "    plt.ylabel(\"Y-Werte\")\n",
    "    plt.scatter(X, Y)\n",
    "    plt.scatter(X, Y_Corrected)\n",
    "    plt.show()"
   ]
  },
  {
   "cell_type": "markdown",
   "metadata": {},
   "source": [
    "Was uns jetzt noch fehlt ist eine Legende um beide Datenmengen zu unterscheiden.\n",
    "Um diese zu erzeugen müssen wir unsere Daten in  „plt.scatter“ (oder auch  „plt.plot“) benennen \n",
    "und anschließend „plt.legend“ rufen.\n",
    "Dafür verwenden wir in „plt.scatter“ den Parameter „label“.\n",
    "Hierbei handelt es sich um einen optionalen Parameter, welchen wir mit seinem Namen rufen."
   ]
  },
  {
   "cell_type": "code",
   "execution_count": null,
   "metadata": {},
   "outputs": [],
   "source": [
    "    plt.title(\"$X^2$ Messung\")\n",
    "    plt.xlabel(\"X-Werte\")\n",
    "    plt.ylabel(\"Y-Werte\")\n",
    "    # Hier werden die Graphen benannt, bzw gelabelt\n",
    "    plt.scatter(X, Y, label = \"Original Daten\")\n",
    "    plt.scatter(X, Y_Corrected, label = \"Korrigierte Daten\" )\n",
    "    plt.legend() \n",
    "    # plt.legend hat einen optinalen parameter loc für location, welcher zum Beispiel so gerufen würde.\n",
    "    # plt.legend(loc=\"lower left\")\n",
    "    plt.show()"
   ]
  },
  {
   "cell_type": "markdown",
   "metadata": {},
   "source": [
    "Manchmal kann es auch sinnvoll sein die Achsen zu verändern, \n",
    "um zum Beispiel Distanzen in unsinnigen Einheiten anzugeben\n",
    "oder den einen bestimmten Bereich zu fokussieren.\n",
    "Um dies zu demonstrieren, wird unser Beispiel nun mittels „plt.xlim“ bzw. „plt.ylim“ fixiert\n",
    "und anschließend eine 2. Achse mit „plt.twinx“ erzeugt."
   ]
  },
  {
   "cell_type": "code",
   "execution_count": null,
   "metadata": {},
   "outputs": [],
   "source": [
    "plt.title(\"$X^2$ Messung\")\n",
    "plt.xlabel(\"X-Werte in [cm]\")\n",
    "plt.ylabel(\"Y-Werte\")\n",
    "plt.scatter(X, Y, label = \"Original Daten\")\n",
    "plt.scatter(X, Y_Corrected, label = \"Korrigierte Daten\" )\n",
    "# Nun schränken wir die X- und Y-Werte ein\n",
    "# Die Syntax lautet plt.xlim(Beginn, Ende, Schrittweite)\n",
    "plt.xlim(0, 10, 2)\n",
    "# Dies können wir auch missbrauchen um unsere Achse zu invertieren\n",
    "plt.ylim(160, -20, -20)\n",
    "plt.legend()\n",
    "# Nun verdoppeln wir die X-Achse\n",
    "plt.twiny()\n",
    "plt.xlim(0, 10*0.39, 2)\n",
    "plt.xlabel(\"X-Werte in [Zoll]\")\n",
    "# Natürlich geht dies auch mit der Y-Achse\n",
    "plt.twinx()\n",
    "plt.ylim(0.16, -0.02, 0.02)\n",
    "plt.ylabel(\"Y-Werte in Tausend\")\n",
    "plt.show()"
   ]
  },
  {
   "cell_type": "markdown",
   "metadata": {},
   "source": [
    "Nützlicher ist die Möglichkeit die Skalierung der Achsen anzupassen."
   ]
  },
  {
   "cell_type": "code",
   "execution_count": null,
   "metadata": {},
   "outputs": [],
   "source": [
    "plt.title(\"$X^2$ Messung\")\n",
    "plt.xlabel(\"X-Werte\")\n",
    "plt.ylabel(\"Y-Werte\")\n",
    "# Aufgrund eines bugs funktioniert es dies nicht mit plt.scatter\n",
    "plt.yscale(\"log\")\n",
    "plt.plot(X, Y, label = \"Plot\")\n",
    "# Statdessen kann man Scatter folgendermaßen nachahmen\n",
    "plt.plot(X, Y, label = \"Pseudo-Scatter\", marker = \"o\", linestyle=\"none\")\n",
    "plt.yscale(\"log\")\n",
    "plt.legend()\n",
    "plt.show()"
   ]
  },
  {
   "cell_type": "markdown",
   "metadata": {},
   "source": [
    "Natürlich gibt es noch weiter Möglichkeiten ein Diagramm zu verunstalten.\n",
    "Meist empfiehlt es sich jedoch einfach 2 Diagramme zu verwenden.\n",
    "Hierfür können wir die Funktion „plt.subplot“ nutzen."
   ]
  },
  {
   "cell_type": "code",
   "execution_count": null,
   "metadata": {},
   "outputs": [],
   "source": [
    "# plt.subplot erzeugt ein Gitter und ordnet darin die Diagramme von links oben nach rechts unten ein.\n",
    "# Wir wollen ein Gitter mit der Höhe 1 und Breite 2 erzeugen also schreiben wir\n",
    "plt.subplot(1, 2, 1)\n",
    "plt.title(\"$X^2$ Messung\")\n",
    "plt.title(\"Original Daten\")\n",
    "plt.xlabel(\"X-Werte\")\n",
    "plt.ylabel(\"Y-Werte\")\n",
    "plt.scatter(X, Y)\n",
    "plt.subplot(1, 2, 2)\n",
    "# Der neue plot muss ebenfalls mit Titel und Achsenbeschriftungen versehen werden\n",
    "plt.title(\"Korrigierte Daten\")\n",
    "plt.xlabel(\"X-Werte\")\n",
    "plt.ylabel(\"Y-Werte\")\n",
    "plt.scatter(X, Y_Corrected)\n",
    "plt.show()"
   ]
  },
  {
   "cell_type": "markdown",
   "metadata": {},
   "source": [
    "Es ist auch möglich die Diagramme in Figuren zusammenzufassen, welche über eine eigene Überschrift verfügen."
   ]
  },
  {
   "cell_type": "code",
   "execution_count": null,
   "metadata": {},
   "outputs": [],
   "source": [
    "# Zuerst erzeugen wir die Figur\n",
    "plt.figure()\n",
    "# Nun legen wir ihre Überschrift fest\n",
    "plt.suptitle(\"$X^2$ Messung in 2 Diagrammen\")\n",
    "\n",
    "# Jetzt erst folgen die plots.\n",
    "plt.subplot(1, 2, 1)\n",
    "plt.title(\"Original Daten\")\n",
    "plt.xlabel(\"X-Werte\")\n",
    "plt.ylabel(\"Y-Werte\")\n",
    "plt.scatter(X, Y)\n",
    "plt.subplot(1, 2, 2)\n",
    "plt.title(\"Korrigierte Daten\")\n",
    "plt.xlabel(\"X-Werte\")\n",
    "plt.ylabel(\"Y-Werte\")\n",
    "plt.scatter(X, Y_Corrected)\n",
    "\n",
    "#Natürlich können wir auch eine 2 Figur erzeugen\n",
    "plt.figure()\n",
    "plt.suptitle(\"$X^2$ Messung in einem Diagramm\")\n",
    "plt.title(\"$X^2$ Messung\")\n",
    "plt.xlabel(\"X-Werte\")\n",
    "plt.ylabel(\"Y-Werte\")\n",
    "plt.scatter(X, Y, label = \"Original Daten\")\n",
    "plt.scatter(X, Y_Corrected, label = \"Korrigierte Daten\" )\n",
    "plt.legend() \n",
    "plt.show()"
   ]
  },
  {
   "cell_type": "markdown",
   "metadata": {},
   "source": [
    "Wendet dieses Wissen nun an um den Sinus und Cosinus in 2 Figuren darzustellen.\n",
    "1. Figur: Daten im selben Diagramm.\n",
    "2. Figur: Daten in 2 verschiedenen Diagrammen."
   ]
  },
  {
   "cell_type": "code",
   "execution_count": null,
   "metadata": {},
   "outputs": [],
   "source": [
    "# Erzeugen der Daten\n",
    "import numpy as np\n",
    "X_sin = np.arange(0, 2*np.pi, 0.1)\n",
    "Y_sin = np.sin(X_sin)\n",
    "Y_cos = np.cos(X_sin)\n",
    "\n",
    "# Fügt hier bitte eure Lösung ein"
   ]
  },
  {
   "cell_type": "markdown",
   "metadata": {},
   "source": [
    "Kehren wir nun zu unserem Beispiel zurück,\n",
    "so stellen wir fest, dass die Daten Fehlerwerte enthalten.\n",
    "Um diese darzustellen können wir „plt.errorbar“ verwenden."
   ]
  },
  {
   "cell_type": "code",
   "execution_count": null,
   "metadata": {},
   "outputs": [],
   "source": [
    "import matplotlib.pyplot as plt\n",
    "import csv\n",
    "filename = \"data15.csv\"\n",
    "with open(filename) as csv_file:\n",
    "    X = []\n",
    "    X_Fehler = []\n",
    "    Y = []\n",
    "    Y_Fehler = []\n",
    "    readCSV = csv.reader(csv_file, delimiter=',')\n",
    "    Header = 1\n",
    "    for row in readCSV:\n",
    "        if Header > 0:\n",
    "            Header -= 1\n",
    "            continue\n",
    "        X.append(float(row[0]))\n",
    "        X_Fehler.append(float(row[1]))\n",
    "        Y.append(float(row[2]))\n",
    "        Y_Fehler.append(float(row[3]))\n",
    "        \n",
    "    # Die Syntax für Errorbar lautet\n",
    "    # plt.errorbar(X, Y, Y_Fehler, X_Fehler)\n",
    "    # Was uns eine \"plot\" artige Darstellung liefern würden\n",
    "    # Deshalp rufen wir\n",
    "    plt.errorbar(X, Y, Y_Fehler, X_Fehler, fmt = \"p\")\n",
    "    # fmt steht für plot-formating-string.\n",
    "    # Um nur Kreuze zu erhalten können wir fmt = \"none\" verwenden\n",
    "    plt.show()"
   ]
  },
  {
   "cell_type": "markdown",
   "metadata": {},
   "source": [
    "Vermutlich werdet ihr „plt.errorbar“ während des Praktikums häufiger anwenden müssen.\n",
    "Übt deshalb an „data16.csv“."
   ]
  },
  {
   "cell_type": "code",
   "execution_count": null,
   "metadata": {},
   "outputs": [],
   "source": [
    "# Fügt hier bitte eure Lösung ein"
   ]
  },
  {
   "cell_type": "markdown",
   "metadata": {},
   "source": [
    "Ein weiterer wichtige Möglichkeit Daten darzustellen ist das Histogramm.\n",
    "Nehmen wir an, in einem Verusch untersuchen wir die Anzahl an Photonen,\n",
    "welche von einem Photodetektor erfasst werden.\n",
    "Dieses fiktive Beispiel findet sich in „data17.csv“.\n",
    "Um uns einen Überblick zu verschaffen stellen wir die Daten in einem Histogram dar."
   ]
  },
  {
   "cell_type": "code",
   "execution_count": null,
   "metadata": {},
   "outputs": [],
   "source": [
    "import matplotlib.pyplot as plt\n",
    "import csv\n",
    "filename = \"data17.csv\"\n",
    "with open(filename) as csv_file:\n",
    "    Values = []\n",
    "    readCSV = csv.reader(csv_file, delimiter=',')\n",
    "    Header = 1\n",
    "    for row in readCSV:\n",
    "        if Header > 0:\n",
    "            Header -= 1\n",
    "            continue\n",
    "        Values.append(float(row[1]))\n",
    "    \n",
    "    # Um ein Histogramm zu erstellen rufen wir plt.hist(Daten, Anzahl bins)\n",
    "    # Dies kann uns auch einige Daten zurückgeben\n",
    "    Werte, Bins, Patches = plt.hist(Values, 10)\n",
    "    # Werte sind die Einträge in die bins (die Y-Werte gewissermaßen)\n",
    "    # Bins zeigt uns die Grenzen dergewählten bins an\n",
    "    print(Bins)\n",
    "    plt.show()"
   ]
  },
  {
   "cell_type": "markdown",
   "metadata": {},
   "source": [
    "Wie wir im oberen Beispiel sehen ist die Wahl der Bin-Grenzen nicht optimal,\n",
    "um dieses Problem zu beheben können wir statt der Anzahl der Bins/Schubladen auch direkt\n",
    "deren Weite angeben:"
   ]
  },
  {
   "cell_type": "code",
   "execution_count": null,
   "metadata": {},
   "outputs": [],
   "source": [
    "# Hierfür könnten wir foglende Liste verwenden:\n",
    "# Bins = [0, 5, 10, 15, 20 , 25, 30, 35, 40, 45, 50, 55, 60, 65]\n",
    "# Oder sie uns selbst generieren\n",
    "Bins = list(range(0, 80,5))\n",
    "Werte, Bins, Patches = plt.hist(Values, Bins)\n",
    "plt.show()"
   ]
  },
  {
   "cell_type": "markdown",
   "metadata": {},
   "source": [
    "Während „Patches“ für uns einen eher geringeren Nutzen hat.\n",
    "Können wir die anderen beiden Werte verwenden um eine Annäherungslinie zeichnen zu lassen."
   ]
  },
  {
   "cell_type": "code",
   "execution_count": null,
   "metadata": {},
   "outputs": [],
   "source": [
    "Bins = list(range(0, 80,5))\n",
    "Werte, Bins, Patches = plt.hist(Values, Bins)\n",
    "# Um unseren plot anzupassen müssen wir ihn zentrieren(weshalb wir ihn um 0.5 Binweiten nach rechts schieben)\n",
    "for i in range(0, len(Bins)):\n",
    "    Bins[i] -= 2.5\n",
    "# und links einen leeren Wert hinzufügen\n",
    "plt.plot(Bins, [0] + list(Werte))\n",
    "plt.show()"
   ]
  },
  {
   "cell_type": "markdown",
   "metadata": {},
   "source": [
    "Jetzt müssen wir das ganze nur noch abspeichern hierzu verwenden wir „plt.savefig“."
   ]
  },
  {
   "cell_type": "code",
   "execution_count": null,
   "metadata": {},
   "outputs": [],
   "source": [
    "Bins = list(range(0, 80,5))\n",
    "Werte, Bins, Patches = plt.hist(Values, Bins)\n",
    "plt.savefig(\"Histogram.png\")"
   ]
  },
  {
   "cell_type": "markdown",
   "metadata": {},
   "source": [
    "In euren Notebook sollte nun „Histogram.png“ aufgetaucht sein. \n",
    "Wenn ihr wollt könnt ihr sie euch herunterladen und betrachten."
   ]
  },
  {
   "cell_type": "markdown",
   "metadata": {},
   "source": [
    "Natürlich verwendet man „plot“ üblicherweise mit der genäherten Verteilung.\n",
    "Weshalb wir uns im nächsten Kapitel mit fitten beschäftigen werden.\n",
    "Zuvor jedoch würde ich euch bitten die Daten in „data18.csv“ in einem Histogramm darzustellen und abzuspeichern."
   ]
  },
  {
   "cell_type": "code",
   "execution_count": null,
   "metadata": {},
   "outputs": [],
   "source": [
    "# Fügt hier bitte eure Lösung ein"
   ]
  },
  {
   "cell_type": "markdown",
   "metadata": {},
   "source": [
    "Bevor wir uns nun mit fitten beschäftigen könnten ihr noch einen kurzen Blick auf die Gallerie werfen,\n",
    "um euch die Möglichkeiten zu veranschaulichen (https://matplotlib.org/3.1.1/gallery/index.html).\n",
    "Wenn ihr wollt könnt ihr auch den folgenden Code ausführen, welcher die Schritte zur Erstellung einer Kochschenflocke in einer gif-Datei dokumentiert und abspeichert."
   ]
  },
  {
   "cell_type": "code",
   "execution_count": null,
   "metadata": {},
   "outputs": [],
   "source": [
    "import matplotlib\n",
    "import matplotlib.pyplot as plt\n",
    "import numpy as np\n",
    "import imageio\n",
    "\n",
    "def KochKurve(points, start, end, depth):\n",
    "    if len(points) <= 0:\n",
    "        points.append(start)\n",
    "    if depth <= 0:\n",
    "        points.append(end)\n",
    "    else:\n",
    "        xdif = end[0] - start[0]\n",
    "        ydif = end[1] - start[1]\n",
    "        p1 = (start[0] + (xdif / 3), start[1] + (ydif / 3))\n",
    "        p2 = (start[0] + (xdif/2) - (ydif/3), start[1] + (ydif/2) + xdif/3)\n",
    "        p3 = (start[0] + (xdif * 2 / 3), start[1] + (ydif * 2 / 3))\n",
    "        KochKurve(points, start, p1, depth-1)\n",
    "        KochKurve(points, p1, p2, depth-1)\n",
    "        KochKurve(points, p2, p3, depth-1)\n",
    "        KochKurve(points, p3, end, depth-1)\n",
    "\n",
    "def plot_for_offset(power):\n",
    "    # Data for plotting\n",
    "    points = []\n",
    "    KochKurve(points, (-1, 0), (1,0), power)\n",
    "    KochKurve(points, (1, 0), (0, -3**(1/2)), power)\n",
    "    KochKurve(points, (0, -3**(1/2)), (-1,0), power)\n",
    "    x = []\n",
    "    y = []\n",
    "    for point in points:\n",
    "        x.append(point[0])\n",
    "        y.append(point[1])\n",
    "\n",
    "    fig, ax = plt.subplots(figsize=(10,10))\n",
    "    ax.plot(x, y)\n",
    "\n",
    "    # IMPORTANT ANIMATION CODE HERE\n",
    "    # Used to keep the limits constant\n",
    "    ax.axis(\"equal\")\n",
    "    ax.set_ylim(-2, 1)\n",
    "    ax.set_xlim(-1.5, 1.5)\n",
    "\n",
    "    # Used to return the plot as an image rray\n",
    "    fig.canvas.draw()       # draw the canvas, cache the renderer\n",
    "    image = np.frombuffer(fig.canvas.tostring_rgb(), dtype='uint8')\n",
    "    image = image.reshape(fig.canvas.get_width_height()[::-1] + (3,))\n",
    "\n",
    "    return image\n",
    "\n",
    "kwargs_write = {'fps':1.0, 'quantizer':'nq'}\n",
    "imageio.mimsave('./Kochsche.gif', [plot_for_offset(i) for i in range(7)], fps=1)"
   ]
  },
  {
   "cell_type": "markdown",
   "metadata": {},
   "source": [
    "## Fitten\n",
    "Ein wichtiger Teil der Datenauswertung im Anfängerpraktikum besteht daraus, \n",
    "Modelle an Daten anzupassen.\n",
    "Bisher habt ihr dies nach Augenmaß mit Ausgleichsgeraden getan.\n",
    "Wenn ihr euch die Praktikumsanleitung durchgelesen habt solltet ihr jedoch auch wissen,\n",
    "dass es mathematische Methoden, wie die „Least-Squares“-Methode gibt,\n",
    "welche passende Lösungen bestimmen.\n",
    "\n",
    "Natürlich verwenden wir Rechner nicht nur,\n",
    "weil wir die Datenpunkte nicht selbst einzeichnen wollen,\n",
    "sondern auch weil Sie es uns ermöglichen \n",
    "ein mathematisches Modell an unzählige Datenpunkte anzupassen.\n",
    "\n",
    "Als Beispiel werden wir „curve_fit“ aus dem Modul „scipy“ verwenden,\n",
    "um ein Modell an die Daten aus „data15.csv“ ohne Berücksichtigng der Fehler zu fitten.\n",
    "Zuerst lassen wir uns die Daten darstellen, um uns einen ungefähren Überblick zu verschaffen."
   ]
  },
  {
   "cell_type": "code",
   "execution_count": null,
   "metadata": {},
   "outputs": [],
   "source": [
    "# Modul import\n",
    "import matplotlib.pyplot as plt\n",
    "import csv\n",
    "import numpy as np\n",
    "from scipy.optimize import curve_fit\n",
    "# Einlesen der Daten\n",
    "filename = \"data15.csv\"\n",
    "with open(filename) as csv_file:\n",
    "    X = []\n",
    "    X_Fehler = []\n",
    "    Y = []\n",
    "    Y_Fehler = []\n",
    "    readCSV = csv.reader(csv_file, delimiter=',')\n",
    "    Header = 1\n",
    "    for row in readCSV:\n",
    "        if Header > 0:\n",
    "            Header -= 1\n",
    "            continue\n",
    "        X.append(float(row[0]))\n",
    "        X_Fehler.append(float(row[1]))\n",
    "        Y.append(float(row[2]))\n",
    "        Y_Fehler.append(float(row[3]))\n",
    "    plt.errorbar(X, Y, Y_Fehler, X_Fehler, fmt = \"none\")\n",
    "    plt.show()"
   ]
  },
  {
   "cell_type": "markdown",
   "metadata": {},
   "source": [
    "Wir sehen, dass es sich wohl um eine quadratische Abhängigkeit handeln muss.\n",
    "Also definieren wir uns nun ein Modell bzw. eine Funktion, welche zu unserer Vermutung passt:"
   ]
  },
  {
   "cell_type": "code",
   "execution_count": null,
   "metadata": {},
   "outputs": [],
   "source": [
    "def f(x, a, b):\n",
    "    return a*x**2 + b"
   ]
  },
  {
   "cell_type": "markdown",
   "metadata": {},
   "source": [
    "Meistens erhalten wir solch eine Funktion aus physikalisch theoretischen Überlegungen.\n",
    "Also meist aus gegebenen physikalischen Gesetzen.\n",
    "\n",
    "Nun verwenden wir „curve_fit“ um die Parameter „a“ und „b“ zu bestimmen."
   ]
  },
  {
   "cell_type": "code",
   "execution_count": null,
   "metadata": {},
   "outputs": [],
   "source": [
    "# Die Syntax für \"curve_fit\" lautet:\n",
    "# popt, pcov = curve_fit(func, xdata, ydata)\n",
    "# popt sind hierbei die optimierten Parameter (a,b)\n",
    "# pcov ist die Kovarianz der bestimmten Parameter, also ein Maß für deren Genaugigkeit\n",
    "popt, pcov = curve_fit(f, X, Y)\n",
    "# Nun geben wir die Ergebnisse aus\n",
    "print(popt)\n",
    "print(pcov)"
   ]
  },
  {
   "cell_type": "markdown",
   "metadata": {},
   "source": [
    "Jetzt müssen wir diese Ergebnisse noch interpretieren.\n",
    "Der erste Wert in „popt“ entspricht „a“, der zweite „b“.\n",
    "Die Kovarianzmatrix können wir in eine Standardabweichung umwandeln,\n",
    "indem wir die Wurzel aus den Diagonaleinträgen bestimmen."
   ]
  },
  {
   "cell_type": "code",
   "execution_count": null,
   "metadata": {},
   "outputs": [],
   "source": [
    "# Zuerst berechnen wir unseren Fehler\n",
    "sigma_a = np.sqrt(np.diag(pcov)[0])\n",
    "print(sigma_a)\n",
    "sigma_b = np.sqrt(np.diag(pcov)[1])\n",
    "print(sigma_b)\n",
    "\n",
    "# Nun erzeugen wir Daten um unsere Näherungskurve zu erzeugen\n",
    "Y_Fit = []\n",
    "for x in X:\n",
    "    Y_Fit.append(f(x, popt[0], popt[1]))\n",
    "# Die Kurzschreibweise hierfür wäre, diese könnte euch in einigen Skripten begenen\n",
    "# Y_Fit = [f(x, *popt) for x in X]\n",
    " \n",
    "plt.errorbar(X, Y, Y_Fehler, X_Fehler, fmt = \"none\")\n",
    "plt.plot(X, Y_Fit)\n",
    "plt.show()"
   ]
  },
  {
   "cell_type": "markdown",
   "metadata": {},
   "source": [
    "Versucht nun die Daten in „data16.csv“ ebenfalls zu fitten und zu ploten."
   ]
  },
  {
   "cell_type": "code",
   "execution_count": null,
   "metadata": {},
   "outputs": [],
   "source": [
    "# Fügt hier bitte eure Lösung ein"
   ]
  },
  {
   "cell_type": "markdown",
   "metadata": {},
   "source": [
    "Natürlich ist „curve_fit“ deutlich mächtiger als hier demonstriert,\n",
    "so kann man zum Beispiel Parameter raten\n",
    "oder Y-Fehler angeben.\n",
    "Näheres findet ihr in der Dokumentation:\n",
    "\n",
    "https://docs.scipy.org/doc/scipy/reference/generated/scipy.optimize.curve_fit.html"
   ]
  },
  {
   "cell_type": "markdown",
   "metadata": {},
   "source": [
    "Leider kann „curve_fit“ keine X-Fehler berücksichtigen,\n",
    "weshalb wir „ODR“ (orthogonal distance regression) verwenden werden.\n",
    "Wie beginnen erneut mit einlesen der und darstellen der Daten."
   ]
  },
  {
   "cell_type": "code",
   "execution_count": null,
   "metadata": {},
   "outputs": [],
   "source": [
    "# Modul import\n",
    "import matplotlib.pyplot as plt\n",
    "import csv\n",
    "import numpy as np\n",
    "import scipy.odr as odr\n",
    "# Einlesen der Daten\n",
    "filename = \"data15.csv\"\n",
    "with open(filename) as csv_file:\n",
    "    X = []\n",
    "    X_Fehler = []\n",
    "    Y = []\n",
    "    Y_Fehler = []\n",
    "    readCSV = csv.reader(csv_file, delimiter=',')\n",
    "    Header = 1\n",
    "    for row in readCSV:\n",
    "        if Header > 0:\n",
    "            Header -= 1\n",
    "            continue\n",
    "        X.append(float(row[0]))\n",
    "        X_Fehler.append(float(row[1]))\n",
    "        Y.append(float(row[2]))\n",
    "        Y_Fehler.append(float(row[3]))\n",
    "    plt.errorbar(X, Y, Y_Fehler, X_Fehler, fmt = \"none\")\n",
    "    plt.show()"
   ]
  },
  {
   "cell_type": "markdown",
   "metadata": {},
   "source": [
    "Wir erstellen erneut unsere Funktion, \n",
    "diese hat jedoch nur 2 Eingaben.\n",
    "Die Liste mit den Parametern und x."
   ]
  },
  {
   "cell_type": "code",
   "execution_count": null,
   "metadata": {},
   "outputs": [],
   "source": [
    "def f(p, x):\n",
    "    a = p[0]\n",
    "    b = p[1]\n",
    "    # Oder kürzer\n",
    "    # a, b = *p\n",
    "    return a*x**2+b"
   ]
  },
  {
   "cell_type": "markdown",
   "metadata": {},
   "source": [
    "Nun konfigurieren wir ODR."
   ]
  },
  {
   "cell_type": "code",
   "execution_count": null,
   "metadata": {},
   "outputs": [],
   "source": [
    "our_model = odr.Model(f)\n",
    "# Da ODR keine Fehler == 0 aktzeptiert setzen wir diese auf \"NaN\"\n",
    "for i in range(0, len(X_Fehler)):\n",
    "    if X_Fehler[i] == 0:\n",
    "        X_Fehler[i] = float(\"Nan\")\n",
    "for i in range(0, len(Y_Fehler)):\n",
    "    if Y_Fehler[i] == 0:\n",
    "        Y_Fehler[i] = float(\"Nan\")\n",
    "        \n",
    "data = odr.Data(X, Y, wd=1./np.power(X_Fehler, 2), we=1./np.power(Y_Fehler, 2))\n",
    "estimate = [2, 0.1]\n",
    "our_odr = odr.ODR(data, our_model, estimate)\n",
    "# Nun setzen wir die Methode auf Least squares\n",
    "our_odr.set_job(fit_type=2)\n",
    "result = our_odr.run()\n",
    "# Nun können wir uns einen kurzen Bericht ausgeben lassen\n",
    "result.pprint()"
   ]
  },
  {
   "cell_type": "code",
   "execution_count": null,
   "metadata": {},
   "outputs": [],
   "source": [
    "# Unsere Parameter finden wir in\n",
    "print(result.beta)\n",
    "# Ihre Standardabweichung in\n",
    "print(result.sd_beta)"
   ]
  },
  {
   "cell_type": "markdown",
   "metadata": {},
   "source": [
    "Damit können wir nun den Fit berechnen und darstellen."
   ]
  },
  {
   "cell_type": "code",
   "execution_count": null,
   "metadata": {},
   "outputs": [],
   "source": [
    "# Zuerst erzeugen wir mit np.linspace 1000 gleichverteilte Werte zwischen dem größeten und kleinsten Wert von X\n",
    "X_fit = np.linspace(min(X), max(X), 1000)\n",
    "# Mit den errechneten Parametern erzeugen wir nun Daten für den Plot\n",
    "Y_fit = f(result.beta, X_fit)\n",
    "\n",
    "# Nun stellen wir das ganze dar\n",
    "plt.errorbar(X, Y, xerr=X_Fehler, yerr=Y_Fehler, linestyle='None')\n",
    "plt.plot(X_fit, Y_fit)\n",
    "plt.show()"
   ]
  },
  {
   "cell_type": "markdown",
   "metadata": {},
   "source": [
    "Versucht nun die Daten in „data16.csv“ ebenfalls so zu fitten und zu ploten."
   ]
  },
  {
   "cell_type": "code",
   "execution_count": null,
   "metadata": {},
   "outputs": [],
   "source": [
    "# Fügt hier bitte eure Lösung ein"
   ]
  },
  {
   "cell_type": "markdown",
   "metadata": {},
   "source": [
    "Als nächstes steht „data20.csv“ auf dem Plan."
   ]
  },
  {
   "cell_type": "code",
   "execution_count": null,
   "metadata": {},
   "outputs": [],
   "source": [
    "# Fügt hier bitte eure Lösung ein"
   ]
  },
  {
   "cell_type": "markdown",
   "metadata": {},
   "source": [
    "In „data21.csv“ kommt ein Modulo vor, viel erfolg!"
   ]
  },
  {
   "cell_type": "code",
   "execution_count": null,
   "metadata": {},
   "outputs": [],
   "source": [
    "# Fügt hier bitte eure Lösung ein"
   ]
  },
  {
   "cell_type": "markdown",
   "metadata": {},
   "source": [
    "Die Daten in „data22.csv“ sollten euch bekannter vorkommen."
   ]
  },
  {
   "cell_type": "code",
   "execution_count": null,
   "metadata": {},
   "outputs": [],
   "source": [
    "# Fügt hier bitte eure Lösung ein"
   ]
  },
  {
   "cell_type": "markdown",
   "metadata": {},
   "source": [
    "Für die Daten in „data23.csv“ könnte man ein Histogramm verwenden."
   ]
  },
  {
   "cell_type": "code",
   "execution_count": null,
   "metadata": {},
   "outputs": [],
   "source": [
    "# Fügt hier bitte eure Lösung ein"
   ]
  },
  {
   "cell_type": "markdown",
   "metadata": {},
   "source": [
    "Nachdem ihr nun plotten und fitten könnt. \n",
    "Könnt ihr euch daran versuchen die anderen Dateien zu fitten.\n",
    "\n",
    "Alternativ findet ihr hier einen kleinen Script, welcher zufällige Daten erzeugt."
   ]
  },
  {
   "cell_type": "code",
   "execution_count": null,
   "metadata": {},
   "outputs": [],
   "source": [
    "import random as rnd\n",
    "import matplotlib.pyplot as plt\n",
    "import numpy as np\n",
    "\n",
    "# Hier finden sich Parameter\n",
    "X_min = 0\n",
    "X_max = 100\n",
    "Number_of_Values = 1000\n",
    "X_std = 10\n",
    "Y_std = 10\n",
    "p_org = [2, 3, 5]\n",
    "\n",
    "# Hier definieren wir die Funktion\n",
    "def f(p, x):\n",
    "    return p[0] + p[1]*x + p[2]*x**2\n",
    "\n",
    "# Hier erzeugen wir die X-Werte\n",
    "X_origin = np.linspace(X_min, X_max, Number_of_Values)\n",
    "\n",
    "# Nun erzeugen wir die Y-Werte\n",
    "Y_origin = [f(p_org, x) for x in X_origin]\n",
    "\n",
    "# Nun verschieben wir beide Werte noch zufällig\n",
    "# um die vorher festgesetzten Fehler wir könnten diese auch noch mit x bzw. y skalieren\n",
    "X = [rnd.gauss(x, X_std) for x in X_origin]\n",
    "Y = [rnd.gauss(y, Y_std) for y in Y_origin] \n",
    "\n",
    "# Die Fehler sind in diesem Falle\n",
    "X_Fehler = [X_std for x in X_origin]\n",
    "Y_Fehler = [Y_std for y in Y_origin]\n",
    "\n",
    "plt.scatter(X,Y)\n",
    "plt.show()"
   ]
  }
 ],
 "metadata": {
  "kernelspec": {
   "display_name": "Python 3",
   "language": "python",
   "name": "python3"
  },
  "language_info": {
   "codemirror_mode": {
    "name": "ipython",
    "version": 3
   },
   "file_extension": ".py",
   "mimetype": "text/x-python",
   "name": "python",
   "nbconvert_exporter": "python",
   "pygments_lexer": "ipython3",
   "version": "3.7.3"
  }
 },
 "nbformat": 4,
 "nbformat_minor": 2
}
