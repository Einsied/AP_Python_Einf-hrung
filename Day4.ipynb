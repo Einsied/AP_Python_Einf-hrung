{
 "cells": [
  {
   "cell_type": "markdown",
   "metadata": {},
   "source": [
    "# Plotten"
   ]
  },
  {
   "cell_type": "markdown",
   "metadata": {},
   "source": [
    "Nachdem ihr nun in der Lage seid Daten auszulesen wollen wir uns nun mit deren Darstellung beschäftigen.\n",
    "Die Funktionen „plot“ und „scatter“ aus dem Modul „matplotlib.pyplot“ kennt ihr bereits.\n",
    "Bevor wir uns nun etwas näher mit ihnen beschäftigen, \n",
    "soll noch einmal auf ihren Verwendungszweck hingewiesen werden.\n",
    "Da „plot“ eine durchgehende Linie erstellt sollte es für die Darstellung mathematischer Gesetzmäßigkeiten verwendet werden oder wenn die Daten sehr klar eine Kurve beschreiben,\n",
    "um dem Leser zu helfen diese zu erkennen.\n",
    "Folgen die Daten keiner klaren Gesetzmäßigkeit oder streuen stark so sollte „scatter“ verwendet werden.\n",
    "Im Idealfall stellt man sowohl die Datenpunkte, sowie den vermutetet Zusammenhang dar.\n",
    "Um dieses Ziel zu erreichen beginnen wir mit einer kleinen Wiederholung und lesen  „data15.csv“ ein."
   ]
  },
  {
   "cell_type": "code",
   "execution_count": null,
   "metadata": {},
   "outputs": [],
   "source": [
    "# Wir beginnen mit dem importieren der Module\n",
    "import matplotlib.pyplot as plt\n",
    "import csv\n",
    "# Nun geben wir den Namen unseres files an um es später leichter ändern zu können\n",
    "filename = \"data15.csv\"\n",
    "with open(filename) as csv_file:\n",
    "    # Jetzt legen wir Listen für die Werte an\n",
    "    X = []\n",
    "    Y = []\n",
    "    # Nun folgt noch die einlese Konfiguration\n",
    "    readCSV = csv.reader(csv_file, delimiter=',')\n",
    "    Header = 1\n",
    "    for row in readCSV:\n",
    "        if Header > 0:\n",
    "            Header -= 1\n",
    "            continue\n",
    "        # Und am Ende das anfügen an die Listen\n",
    "        X.append(float(row[0]))\n",
    "        Y.append(float(row[2]))"
   ]
  },
  {
   "cell_type": "markdown",
   "metadata": {},
   "source": [
    "Nun wollen wir die X und Y Werte darstellen."
   ]
  },
  {
   "cell_type": "code",
   "execution_count": null,
   "metadata": {},
   "outputs": [],
   "source": [
    "plt.scatter(X,Y)\n",
    "plt.show()"
   ]
  },
  {
   "cell_type": "markdown",
   "metadata": {},
   "source": [
    "Natürlich fehlt diesem Diagramm noch einiges.\n",
    "Ein „Titel“ zum Beispiel. \n",
    "Diesen können wir mit „plt.titel“ erzeugen."
   ]
  },
  {
   "cell_type": "code",
   "execution_count": null,
   "metadata": {},
   "outputs": [],
   "source": [
    "plt.scatter(X,Y)\n",
    "plt.title(\"$X^2$ mit Fehlern\")\n",
    "plt.show()"
   ]
  },
  {
   "cell_type": "markdown",
   "metadata": {},
   "source": [
    "Die Formulierung „$x^2$“ entstammt der Textbeschreibungssprache „TeX“.\n",
    "Da uns die Zeit fehlt auf diese näher einzugehen hier die Grundlagen:\n",
    "* „\\\\$ Formel \\\\$“ ist die Mathematikumgebung und ermöglicht das setzen von Formeln.\n",
    "* „{}“ schließen einzelne Teile einer mathematischen Formel ein.\n",
    "* „{Basis}^{Exponent}“ wird dargestellt als ${Basis}^{Exponent}$.\n",
    "* „{Basis}_{Index}“ wird dargestellt als ${Basis}_{Index}$.\n",
    "* Mit „\\frac{Zähler}{Nenner}“  kann mann Brüche darstellen:$\\frac{Zähler}{Nenner}$\n",
    "* Mit „\\mathrm{Text}“ lässt sich nicht kursiver Text setzen:  $\\mathrm{Text}$\n",
    "\n",
    "Jedoch sollte in den meisten Fällen gewöhnlicher Text genügen."
   ]
  },
  {
   "cell_type": "markdown",
   "metadata": {},
   "source": [
    "Es wäre auch schön unserer Achsenzu  beschriften.\n",
    "Hierfür verwenden wir „plt.xlabel“ bzw. „plt.ylabel“."
   ]
  },
  {
   "cell_type": "code",
   "execution_count": null,
   "metadata": {},
   "outputs": [],
   "source": [
    "plt.scatter(X,Y)\n",
    "plt.title(\"$X^2$ mit Fehlern\")\n",
    "plt.xlabel(\"X-Werte\")\n",
    "plt.ylabel(\"Y-Werte\")\n",
    "plt.show()"
   ]
  },
  {
   "cell_type": "markdown",
   "metadata": {},
   "source": [
    "Damit ihr etwas Übung bekommt würde ich euch nun bitten diese Kenntnisse anzuwenden,\n",
    "um den Sinus im Intervall (0, 2$\\pi$) darzustellen.\n",
    "Beschriftet die Achsen und gebt dem Diagramm eine Überschrift."
   ]
  },
  {
   "cell_type": "code",
   "execution_count": null,
   "metadata": {},
   "outputs": [],
   "source": [
    "# Erzeugen der Daten\n",
    "import numpy as np\n",
    "X_sin = np.arange(0, 2*np.pi, 0.1)\n",
    "Y_sin = np.sin(X_sin)\n",
    "\n",
    "# Fügt hier bitte eure Lösung ein"
   ]
  },
  {
   "cell_type": "markdown",
   "metadata": {},
   "source": [
    "Nehmen wir nun an wir müssten von den in  „data15.csv“ gegebenen Y-Werten einen konstanten Untergrund abziehen\n",
    "und wollten die neuen sowie die Originaldaten im gleichen Diagramm darstellen.\n",
    "Dann könnten wir 2 mal „plt.scatter“ rufen."
   ]
  },
  {
   "cell_type": "code",
   "execution_count": null,
   "metadata": {},
   "outputs": [],
   "source": [
    "# Zuerst importieren wir wieder die Module und lesen die CSV-Datei ein\n",
    "import matplotlib.pyplot as plt\n",
    "import csv\n",
    "filename = \"data15.csv\"\n",
    "with open(filename) as csv_file:\n",
    "    X = []\n",
    "    Y = []\n",
    "    readCSV = csv.reader(csv_file, delimiter=',')\n",
    "    Header = 1\n",
    "    for row in readCSV:\n",
    "        if Header > 0:\n",
    "            Header -= 1\n",
    "            continue\n",
    "        X.append(float(row[0]))\n",
    "        Y.append(float(row[2]))\n",
    "        \n",
    "    # Nun ziehen wir den Untergrund ab\n",
    "    Background = 10\n",
    "    Y_Corrected = []\n",
    "    for y in Y:\n",
    "        Y_Corrected.append(y - Background)\n",
    "        \n",
    "    # Nun kommen wir zur Darstellung\n",
    "    plt.title(\"$X^2$ Messung\")\n",
    "    plt.xlabel(\"X-Werte\")\n",
    "    plt.ylabel(\"Y-Werte\")\n",
    "    plt.scatter(X, Y)\n",
    "    plt.scatter(X, Y_Corrected)\n",
    "    plt.show()"
   ]
  },
  {
   "cell_type": "markdown",
   "metadata": {},
   "source": [
    "Was uns jetzt noch fehlt ist eine Legende um beide Datenmengen zu unterscheiden.\n",
    "Um diese zu erzeugen müssen wir unsere Daten in  „plt.scatter“ (oder auch  „plt.plot“) benennen \n",
    "und anschließend „plt.legend“ rufen.\n",
    "Dafür verwenden wir in „plt.scatter“ den Parameter „label“.\n",
    "Hierbei handelt es sich um einen optionalen Parameter, welchen wir mit seinem Namen rufen."
   ]
  },
  {
   "cell_type": "code",
   "execution_count": null,
   "metadata": {},
   "outputs": [],
   "source": [
    "    plt.title(\"$X^2$ Messung\")\n",
    "    plt.xlabel(\"X-Werte\")\n",
    "    plt.ylabel(\"Y-Werte\")\n",
    "    # Hier werden die Graphen benannt, bzw gelabelt\n",
    "    plt.scatter(X, Y, label = \"Original Daten\")\n",
    "    plt.scatter(X, Y_Corrected, label = \"Korrigierte Daten\" )\n",
    "    plt.legend() \n",
    "    # plt.legend hat einen optinalen parameter loc für location, welcher zum Beispiel so gerufen würde.\n",
    "    # plt.legend(loc=\"lower left\")\n",
    "    plt.show()"
   ]
  },
  {
   "cell_type": "markdown",
   "metadata": {},
   "source": [
    "Manchmal kann es auch sinnvoll sein die Achsen zu verändern.\n",
    "Um zum Beispiel Distanzen in unsinnigen Einheiten anzugeben\n",
    "oder den einen bestimmten Bereich zu fokussieren.\n",
    "Um dies zu deonstrieren, wird unser Beispiel nun mittels „plt.xlim“ bzw. „plt.ylim“ fixiert\n",
    "und anschließend eine 2. Achse mit „plt.twinx“ erzeugt."
   ]
  },
  {
   "cell_type": "code",
   "execution_count": null,
   "metadata": {},
   "outputs": [],
   "source": [
    "plt.title(\"$X^2$ Messung\")\n",
    "plt.xlabel(\"X-Werte in [cm]\")\n",
    "plt.ylabel(\"Y-Werte\")\n",
    "plt.scatter(X, Y, label = \"Original Daten\")\n",
    "plt.scatter(X, Y_Corrected, label = \"Korrigierte Daten\" )\n",
    "# Nun schränken wir die X- und Y-Werte ein\n",
    "# Die Syntax lautet plt.xlim(Beginn, Ende, Schrittweite)\n",
    "plt.xlim(0, 10, 2)\n",
    "# Dies können wir auch missbrauchen um unsere Achse zu invertieren\n",
    "plt.ylim(160, -20, -20)\n",
    "plt.legend()\n",
    "# Nun verdoppeln wir die X-Achse\n",
    "plt.twiny()\n",
    "plt.xlim(0, 10*0.39, 2)\n",
    "plt.xlabel(\"X-Werte in [Zoll]\")\n",
    "# Natürlich geht dies auch mit der Y-Achse\n",
    "plt.twinx()\n",
    "plt.ylim(0.16, -0.02, 0.02)\n",
    "plt.ylabel(\"X-Werte in Tausend\")\n",
    "plt.show()"
   ]
  },
  {
   "cell_type": "markdown",
   "metadata": {},
   "source": [
    "Nützlicher ist die Möglichkeit die Skalierung der Achsen anzupassen."
   ]
  },
  {
   "cell_type": "code",
   "execution_count": null,
   "metadata": {},
   "outputs": [],
   "source": [
    "plt.title(\"$X^2$ Messung\")\n",
    "plt.xlabel(\"X-Werte\")\n",
    "plt.ylabel(\"Y-Werte\")\n",
    "# Aufgrund eines bugs funktioniert es dies nicht mit plt.scatter\n",
    "plt.yscale(\"log\")\n",
    "plt.plot(X, Y, label = \"Plot\")\n",
    "# Statdessen kann man Scatter folgendermaßen nachahmen\n",
    "plt.plot(X, Y, label = \"Pseudo-Scatter\", marker = \"o\", linestyle=\"none\")\n",
    "plt.yscale(\"log\")\n",
    "plt.legend()\n",
    "plt.show()"
   ]
  },
  {
   "cell_type": "markdown",
   "metadata": {},
   "source": [
    "Natürlich gibt es noch weiter Möglichkeiten ein Diagramm zu verunstalten.\n",
    "Meist empfiehlt es sich jedoch einfach 2 Diagramme zu verwenden.\n",
    "Hierfür können wir die Funktion „plt.subplot“ nutzen."
   ]
  },
  {
   "cell_type": "code",
   "execution_count": null,
   "metadata": {},
   "outputs": [],
   "source": [
    "# plt.subplot erzeugt ein Gitter und ordnet darin die Diagramme von links oben nach rechts unten ein.\n",
    "# Wir wollen ein Gitter mit der Höhe 1 und Breite 2 erzeugen also schreiben wir\n",
    "plt.subplot(1, 2, 1)\n",
    "plt.title(\"$X^2$ Messung\")\n",
    "plt.title(\"Original Daten\")\n",
    "plt.xlabel(\"X-Werte\")\n",
    "plt.ylabel(\"Y-Werte\")\n",
    "plt.scatter(X, Y)\n",
    "plt.subplot(1, 2, 2)\n",
    "# Der neue plot muss ebenfalls mit Titel und Achsenbeschriftungen versehen werden\n",
    "plt.title(\"Korrigierte Daten\")\n",
    "plt.xlabel(\"X-Werte\")\n",
    "plt.ylabel(\"Y-Werte\")\n",
    "plt.scatter(X, Y_Corrected)\n",
    "plt.show()"
   ]
  },
  {
   "cell_type": "markdown",
   "metadata": {},
   "source": [
    "Es ist auch möglich die Diagramme in Figuren zusammenzufassen, welche über eine eigene Überschrift verfügen."
   ]
  },
  {
   "cell_type": "code",
   "execution_count": null,
   "metadata": {},
   "outputs": [],
   "source": [
    "# Zuerst erzeugen wir die Figur\n",
    "plt.figure()\n",
    "# Nun legen wir ihre Überschrift fest\n",
    "plt.suptitle(\"$X^2$ Messung in 2 Diagrammen\")\n",
    "\n",
    "# Jetzt erst folgen die plots.\n",
    "plt.subplot(1, 2, 1)\n",
    "plt.title(\"Original Daten\")\n",
    "plt.xlabel(\"X-Werte\")\n",
    "plt.ylabel(\"Y-Werte\")\n",
    "plt.scatter(X, Y)\n",
    "plt.subplot(1, 2, 2)\n",
    "plt.title(\"Korrigierte Daten\")\n",
    "plt.xlabel(\"X-Werte\")\n",
    "plt.ylabel(\"Y-Werte\")\n",
    "plt.scatter(X, Y_Corrected)\n",
    "\n",
    "#Natürlich können wir auch eine 2 Figur erzeugen\n",
    "plt.figure()\n",
    "plt.suptitle(\"$X^2$ Messung in einem Diagramm\")\n",
    "plt.title(\"$X^2$ Messung\")\n",
    "plt.xlabel(\"X-Werte\")\n",
    "plt.ylabel(\"Y-Werte\")\n",
    "plt.scatter(X, Y, label = \"Original Daten\")\n",
    "plt.scatter(X, Y_Corrected, label = \"Korrigierte Daten\" )\n",
    "plt.legend() \n",
    "plt.show()"
   ]
  },
  {
   "cell_type": "markdown",
   "metadata": {},
   "source": [
    "Wendet dieses Wissen nun an um den Sinus und Cosinus in 2 Figuren darzustellen.\n",
    "1. Figur: Daten im selben Diagramm.\n",
    "2. Figur: Daten in 2 verschiedenen Diagrammen."
   ]
  },
  {
   "cell_type": "code",
   "execution_count": null,
   "metadata": {},
   "outputs": [],
   "source": [
    "# Erzeugen der Daten\n",
    "import numpy as np\n",
    "X_sin = np.arange(0, 2*np.pi, 0.1)\n",
    "Y_sin = np.sin(X_sin)\n",
    "Y_cos = np.cos(X_sin)\n",
    "\n",
    "# Fügt hier bitte eure Lösung ein"
   ]
  },
  {
   "cell_type": "markdown",
   "metadata": {},
   "source": [
    "Kehren wir nun zu unserem Beispiel zurück,\n",
    "so stellen wir fest, dass die Daten Fehlerwerte enthalten.\n",
    "Um diese darzustellen können wir „plt.errorbar“ verwenden."
   ]
  },
  {
   "cell_type": "code",
   "execution_count": null,
   "metadata": {},
   "outputs": [],
   "source": [
    "import matplotlib.pyplot as plt\n",
    "import csv\n",
    "filename = \"data15.csv\"\n",
    "with open(filename) as csv_file:\n",
    "    X = []\n",
    "    X_Fehler = []\n",
    "    Y = []\n",
    "    Y_Fehler = []\n",
    "    readCSV = csv.reader(csv_file, delimiter=',')\n",
    "    Header = 1\n",
    "    for row in readCSV:\n",
    "        if Header > 0:\n",
    "            Header -= 1\n",
    "            continue\n",
    "        X.append(float(row[0]))\n",
    "        X_Fehler.append(float(row[1]))\n",
    "        Y.append(float(row[2]))\n",
    "        Y_Fehler.append(float(row[3]))\n",
    "        \n",
    "    # Die Syntax für Errorbar lautet\n",
    "    # plt.errorbar(X, Y, Y_Fehler, X_Fehler)\n",
    "    # Was uns eine \"plot\" artige Darstellung liefern würden\n",
    "    # Deshalp rufen wir\n",
    "    plt.errorbar(X, Y, Y_Fehler, X_Fehler, fmt = \"p\")\n",
    "    # fmt steht für plot-formating-string.\n",
    "    # Um nur Kreuze zu erhalten können wir fmt = \"none\" verwenden\n",
    "    plt.show()"
   ]
  },
  {
   "cell_type": "markdown",
   "metadata": {},
   "source": [
    "Vermutlich werdet ihr „plt.errorbar“ während des Praktikums häufiger anwenden müssen.\n",
    "Übt deshalb an „data16.csv“."
   ]
  },
  {
   "cell_type": "code",
   "execution_count": null,
   "metadata": {},
   "outputs": [],
   "source": [
    "# Fügt hier bitte eure Lösung ein"
   ]
  },
  {
   "cell_type": "markdown",
   "metadata": {},
   "source": [
    "Ein weiterer wichtige Möglichkeit Daten darzustellen ist das Histogramm.\n",
    "Nehmen wir an, in einem Verusch untersuchen wir die Anzahl an Photonen,\n",
    "welche von einem Photodetektor erfasst werden.\n",
    "Dieses fiktive Beispiel findet sich in „data17.csv“.\n",
    "Um uns einen Überblick zu verschaffen stellen wir die Daten in einem Histogram dar."
   ]
  },
  {
   "cell_type": "code",
   "execution_count": null,
   "metadata": {},
   "outputs": [],
   "source": [
    "import matplotlib.pyplot as plt\n",
    "import csv\n",
    "filename = \"data17.csv\"\n",
    "with open(filename) as csv_file:\n",
    "    Values = []\n",
    "    readCSV = csv.reader(csv_file, delimiter=',')\n",
    "    Header = 1\n",
    "    for row in readCSV:\n",
    "        if Header > 0:\n",
    "            Header -= 1\n",
    "            continue\n",
    "        Values.append(float(row[1]))\n",
    "    \n",
    "    # Um ein Histogramm zu erstellen rufen wir plt.hist(Daten, Anzahl bins)\n",
    "    # Dies kann uns auch einige Daten zurückgeben\n",
    "    Werte, Bins, Patches = plt.hist(Values, 10)\n",
    "    # Werte sind die Einträge in die bins (die Y-Werte gewissermaßen)\n",
    "    # Bins zeigt uns die Grenzen dergewählten bins an\n",
    "    print(Bins)\n",
    "    plt.show()"
   ]
  },
  {
   "cell_type": "markdown",
   "metadata": {},
   "source": [
    "Wie wir im oberen Beispiel sehen ist die Wahl der Bin-Grenzen nicht optimal,\n",
    "um dieses Problem zu beheben können wir statt der Anzahl der Bins/Schubladen auch direkt\n",
    "deren Weite angeben:"
   ]
  },
  {
   "cell_type": "code",
   "execution_count": null,
   "metadata": {},
   "outputs": [],
   "source": [
    "# Hierfür könnten wir foglende Liste verwenden:\n",
    "# Bins = [0, 10, 20 , 25, 30, 35, 40, 45, 50, 55, 60, 65]\n",
    "# Oder sie uns selbst generieren\n",
    "Bins = list(range(0, 80,5))\n",
    "Werte, Bins, Patches = plt.hist(Values, Bins)\n",
    "plt.show()"
   ]
  },
  {
   "cell_type": "markdown",
   "metadata": {},
   "source": [
    "Während „Patches“ für uns einen eher geringeren Nutzen hat.\n",
    "Können wir die anderen beiden Werte verwenden um eine Annäherungslinie zeichnen zu lassen."
   ]
  },
  {
   "cell_type": "code",
   "execution_count": null,
   "metadata": {},
   "outputs": [],
   "source": [
    "Bins = list(range(0, 80,5))\n",
    "Werte, Bins, Patches = plt.hist(Values, Bins)\n",
    "# Um unseren plot anzupassen müssen wir ihn zentrieren(weshalb wir ihn um 0.5 Binweiten nach rechts schieben)\n",
    "for i in range(0, len(Bins)):\n",
    "    Bins[i] -= 2.5\n",
    "# und links einen leeren Wert hinzufügen\n",
    "plt.plot(Bins, [0] + list(Werte))\n",
    "plt.show()"
   ]
  },
  {
   "cell_type": "markdown",
   "metadata": {},
   "source": [
    "Jetzt müssen wir das ganze nur noch abspeichern hierzu verwenden wir „plt.savefig“."
   ]
  },
  {
   "cell_type": "code",
   "execution_count": null,
   "metadata": {},
   "outputs": [],
   "source": [
    "Bins = list(range(0, 80,5))\n",
    "Werte, Bins, Patches = plt.hist(Values, Bins)\n",
    "plt.savefig(\"Histogram.png\")"
   ]
  },
  {
   "cell_type": "markdown",
   "metadata": {},
   "source": [
    "In euren Notebook sollte nun „Histogram.png“ aufgetaucht sein. \n",
    "Wenn ihr wollt könnt ihr sie euch herunterladen und betrachten."
   ]
  },
  {
   "cell_type": "markdown",
   "metadata": {},
   "source": [
    "Natürlich verwendet man „plot“ üblicherweise mit der genäherten Verteilung.\n",
    "Weshalb wir uns im nächsten Kapitel mit fitten beschäftigen werden.\n",
    "Zuvor jedoch würde ich euch bitten die Daten in „data18.csv“ in einem Histogramm darzustellen und abzuspeichern."
   ]
  },
  {
   "cell_type": "code",
   "execution_count": null,
   "metadata": {},
   "outputs": [],
   "source": [
    "# Fügt hier bitte eure Lösung ein"
   ]
  },
  {
   "cell_type": "markdown",
   "metadata": {},
   "source": [
    "Bevor wir uns nun mit fitten beschäftigen könnten ihr noch einen kurzen Blick auf die Gallerie werfen,\n",
    "um euch die Möglichkeiten zu veranschaulichen (https://matplotlib.org/3.1.1/gallery/index.html).\n",
    "Wenn ihr wollt könnt ihr auch den folgenden Code ausführen, welcher die Schritte zur Erstellung einer Kochschenflocke in einer gif-Datei dokumentiert und abspeichert."
   ]
  },
  {
   "cell_type": "code",
   "execution_count": null,
   "metadata": {},
   "outputs": [],
   "source": [
    "import matplotlib\n",
    "import matplotlib.pyplot as plt\n",
    "import numpy as np\n",
    "import imageio\n",
    "\n",
    "def KochKurve(points, start, end, depth):\n",
    "    if len(points) <= 0:\n",
    "        points.append(start)\n",
    "    if depth <= 0:\n",
    "        points.append(end)\n",
    "    else:\n",
    "        xdif = end[0] - start[0]\n",
    "        ydif = end[1] - start[1]\n",
    "        p1 = (start[0] + (xdif / 3), start[1] + (ydif / 3))\n",
    "        p2 = (start[0] + (xdif/2) - (ydif/3), start[1] + (ydif/2) + xdif/3)\n",
    "        p3 = (start[0] + (xdif * 2 / 3), start[1] + (ydif * 2 / 3))\n",
    "        KochKurve(points, start, p1, depth-1)\n",
    "        KochKurve(points, p1, p2, depth-1)\n",
    "        KochKurve(points, p2, p3, depth-1)\n",
    "        KochKurve(points, p3, end, depth-1)\n",
    "\n",
    "def plot_for_offset(power):\n",
    "    # Data for plotting\n",
    "    points = []\n",
    "    KochKurve(points, (-1, 0), (1,0), power)\n",
    "    KochKurve(points, (1, 0), (0, -3**(1/2)), power)\n",
    "    KochKurve(points, (0, -3**(1/2)), (-1,0), power)\n",
    "    x = []\n",
    "    y = []\n",
    "    for point in points:\n",
    "        x.append(point[0])\n",
    "        y.append(point[1])\n",
    "\n",
    "    fig, ax = plt.subplots(figsize=(10,10))\n",
    "    ax.plot(x, y)\n",
    "\n",
    "    # IMPORTANT ANIMATION CODE HERE\n",
    "    # Used to keep the limits constant\n",
    "    ax.axis(\"equal\")\n",
    "    ax.set_ylim(-2, 1)\n",
    "    ax.set_xlim(-1.5, 1.5)\n",
    "\n",
    "    # Used to return the plot as an image rray\n",
    "    fig.canvas.draw()       # draw the canvas, cache the renderer\n",
    "    image = np.frombuffer(fig.canvas.tostring_rgb(), dtype='uint8')\n",
    "    image = image.reshape(fig.canvas.get_width_height()[::-1] + (3,))\n",
    "\n",
    "    return image\n",
    "\n",
    "kwargs_write = {'fps':1.0, 'quantizer':'nq'}\n",
    "imageio.mimsave('./Kochsche.gif', [plot_for_offset(i) for i in range(7)], fps=1)"
   ]
  },
  {
   "cell_type": "markdown",
   "metadata": {},
   "source": [
    "# TODO\n",
    "## Fitten"
   ]
  },
  {
   "cell_type": "code",
   "execution_count": null,
   "metadata": {},
   "outputs": [],
   "source": [
    "#Writing data\n",
    "import numpy as np\n",
    "import matplotlib.pyplot as plt\n",
    "import csv\n",
    "import random as rnd\n",
    "\n",
    "def f(x, a=0, b=0, c=0): \n",
    "    return np.sin(x*2*np.pi/10)\n",
    "\n",
    "def gauss():\n",
    "    a = 0\n",
    "    if rnd.uniform(0,1) > 0.5:\n",
    "        a = rnd.gauss(25, 10)\n",
    "    else:\n",
    "        a = rnd.gauss(-25, 10)\n",
    "    return round(a)\n",
    "\n",
    "X = [x/10 for x in range(-100,100)]\n",
    "XE = 0.1\n",
    "YE = 0.1\n",
    "XR = [rnd.gauss(x, XE*x) for x in X]\n",
    "Y = [rnd.gauss(f(x), YE*f(x))  for x in XR]\n",
    "data =  [[X[i], XE, Y[i], YE] for i in range(0, len(X))]\n",
    "data = [[i, gauss()] for i in range(0, 1000)]\n",
    "\n",
    "filename = \"data19.csv\"\n",
    "with open(filename, \"w\") as csv_file:\n",
    "    writer = csv.writer(csv_file, delimiter=',')\n",
    "    writer.writerow([\"Messung Nr\", \"Photonen\"])\n",
    "    for point in data:\n",
    "        writer.writerow(point)\n",
    "\n",
    "Values, bins, patches = plt.hist([point[1] for point in data], 10)\n",
    "\n",
    "\n",
    "plt.show()"
   ]
  },
  {
   "cell_type": "code",
   "execution_count": null,
   "metadata": {},
   "outputs": [],
   "source": []
  }
 ],
 "metadata": {
  "kernelspec": {
   "display_name": "Python 3",
   "language": "python",
   "name": "python3"
  },
  "language_info": {
   "codemirror_mode": {
    "name": "ipython",
    "version": 3
   },
   "file_extension": ".py",
   "mimetype": "text/x-python",
   "name": "python",
   "nbconvert_exporter": "python",
   "pygments_lexer": "ipython3",
   "version": "3.7.3"
  }
 },
 "nbformat": 4,
 "nbformat_minor": 2
}
